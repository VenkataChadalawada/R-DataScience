{
 "cells": [
  {
   "cell_type": "markdown",
   "metadata": {},
   "source": [
    "        Data Science: A Programming Approach\n",
    "        Mahyar S Vaghefi\n",
    "        University of Texas Arlington\n",
    "        \n",
    "        This document can only be used for class studies. \n",
    "        You are not allowed to share it in any public platform."
   ]
  },
  {
   "cell_type": "markdown",
   "metadata": {},
   "source": [
    "<h1 align='center' style=\"color: blue;\">Text Analysis - Part II</h1>"
   ]
  },
  {
   "cell_type": "code",
   "execution_count": 1,
   "metadata": {},
   "outputs": [],
   "source": [
    "import pandas as pd\n",
    "import numpy as np\n",
    "import matplotlib as mpl\n",
    "import matplotlib.pyplot as plt"
   ]
  },
  {
   "cell_type": "markdown",
   "metadata": {},
   "source": [
    "## 1. Term Frequency Visualization"
   ]
  },
  {
   "cell_type": "markdown",
   "metadata": {},
   "source": [
    "We already have used wordcloud for presentation of word frequency in textual data. However, we also need to use a more scientific approach for our presentation. In this section, you will learn how to present token frequency using yellowbrick package"
   ]
  },
  {
   "cell_type": "code",
   "execution_count": 10,
   "metadata": {},
   "outputs": [
    {
     "name": "stdout",
     "output_type": "stream",
     "text": [
      "Collecting yellowbrick\n",
      "\u001b[?25l  Downloading https://files.pythonhosted.org/packages/d8/e8/125204ea84a7424a3237556e8dfaec9fee21f2e3d5b3695eb9ce355bf668/yellowbrick-0.9.1-py2.py3-none-any.whl (282kB)\n",
      "\u001b[K    100% |████████████████████████████████| 286kB 3.3MB/s ta 0:00:01\n",
      "\u001b[?25hRequirement already satisfied: scipy>=1.0.0 in /Users/sravaniranga/anaconda3/lib/python3.7/site-packages (from yellowbrick) (1.1.0)\n",
      "Requirement already satisfied: cycler>=0.10.0 in /Users/sravaniranga/anaconda3/lib/python3.7/site-packages (from yellowbrick) (0.10.0)\n",
      "Requirement already satisfied: matplotlib!=3.0.0,>=1.5.1 in /Users/sravaniranga/anaconda3/lib/python3.7/site-packages (from yellowbrick) (3.0.2)\n",
      "Requirement already satisfied: numpy>=1.13.0 in /Users/sravaniranga/anaconda3/lib/python3.7/site-packages (from yellowbrick) (1.15.4)\n",
      "Requirement already satisfied: scikit-learn>=0.20 in /Users/sravaniranga/anaconda3/lib/python3.7/site-packages (from yellowbrick) (0.20.1)\n",
      "Requirement already satisfied: six in /Users/sravaniranga/anaconda3/lib/python3.7/site-packages (from cycler>=0.10.0->yellowbrick) (1.12.0)\n",
      "Requirement already satisfied: kiwisolver>=1.0.1 in /Users/sravaniranga/anaconda3/lib/python3.7/site-packages (from matplotlib!=3.0.0,>=1.5.1->yellowbrick) (1.0.1)\n",
      "Requirement already satisfied: pyparsing!=2.0.4,!=2.1.2,!=2.1.6,>=2.0.1 in /Users/sravaniranga/anaconda3/lib/python3.7/site-packages (from matplotlib!=3.0.0,>=1.5.1->yellowbrick) (2.3.0)\n",
      "Requirement already satisfied: python-dateutil>=2.1 in /Users/sravaniranga/anaconda3/lib/python3.7/site-packages (from matplotlib!=3.0.0,>=1.5.1->yellowbrick) (2.7.5)\n",
      "Requirement already satisfied: setuptools in /Users/sravaniranga/anaconda3/lib/python3.7/site-packages (from kiwisolver>=1.0.1->matplotlib!=3.0.0,>=1.5.1->yellowbrick) (40.6.3)\n",
      "Installing collected packages: yellowbrick\n",
      "Successfully installed yellowbrick-0.9.1\n"
     ]
    }
   ],
   "source": [
    "!pip install yellowbrick"
   ]
  },
  {
   "cell_type": "markdown",
   "metadata": {},
   "source": [
    "Let's use wikipedia API for data collection."
   ]
  },
  {
   "cell_type": "code",
   "execution_count": 5,
   "metadata": {},
   "outputs": [
    {
     "name": "stdout",
     "output_type": "stream",
     "text": [
      "Collecting wikipedia\n",
      "  Downloading https://files.pythonhosted.org/packages/67/35/25e68fbc99e672127cc6fbb14b8ec1ba3dfef035bf1e4c90f78f24a80b7d/wikipedia-1.4.0.tar.gz\n",
      "Requirement already satisfied: beautifulsoup4 in /Users/sravaniranga/anaconda3/lib/python3.7/site-packages (from wikipedia) (4.6.3)\n",
      "Requirement already satisfied: requests<3.0.0,>=2.0.0 in /Users/sravaniranga/anaconda3/lib/python3.7/site-packages (from wikipedia) (2.21.0)\n",
      "Requirement already satisfied: urllib3<1.25,>=1.21.1 in /Users/sravaniranga/anaconda3/lib/python3.7/site-packages (from requests<3.0.0,>=2.0.0->wikipedia) (1.24.1)\n",
      "Requirement already satisfied: idna<2.9,>=2.5 in /Users/sravaniranga/anaconda3/lib/python3.7/site-packages (from requests<3.0.0,>=2.0.0->wikipedia) (2.8)\n",
      "Requirement already satisfied: chardet<3.1.0,>=3.0.2 in /Users/sravaniranga/anaconda3/lib/python3.7/site-packages (from requests<3.0.0,>=2.0.0->wikipedia) (3.0.4)\n",
      "Requirement already satisfied: certifi>=2017.4.17 in /Users/sravaniranga/anaconda3/lib/python3.7/site-packages (from requests<3.0.0,>=2.0.0->wikipedia) (2018.11.29)\n",
      "Building wheels for collected packages: wikipedia\n",
      "  Running setup.py bdist_wheel for wikipedia ... \u001b[?25ldone\n",
      "\u001b[?25h  Stored in directory: /Users/sravaniranga/Library/Caches/pip/wheels/87/2a/18/4e471fd96d12114d16fe4a446d00c3b38fb9efcb744bd31f4a\n",
      "Successfully built wikipedia\n",
      "Installing collected packages: wikipedia\n",
      "Successfully installed wikipedia-1.4.0\n"
     ]
    }
   ],
   "source": [
    "!pip install wikipedia"
   ]
  },
  {
   "cell_type": "code",
   "execution_count": 6,
   "metadata": {},
   "outputs": [
    {
     "data": {
      "text/plain": [
       "'Barack Hussein Obama II ( (listen); born August 4, 1961) is an American attorney and politician who served as the 44th president of the United States from 2009 to 2017. A member of the Democratic Party, he was the first African American to be elected to the presidency. He previously served as a U.S. senator from Illinois from 2005 to 2008.\\nObama was born in Honolulu, Hawaii. After graduating from Columbia University in 1983, he worked as a community organizer in Chicago. In 1988, he enrolled in Harvard Law School, where he was the first black president of the Harvard Law Review. After graduating, he became a civil rights attorney and an academic, teaching constitutional law at the University of Chicago Law School from 1992 to 2004. He represented the 13th district for three terms in the Illinois Senate from 1997 to 2004, when he ran for the U.S. Senate. He received national attention in 2004 with his March primary win, his well-received July Democratic National Convention keynote address, and his landslide November election to the Senate. In 2008, he was nominated for president a year after his campaign began and after a close primary campaign against Hillary Clinton. He was elected over Republican John McCain and was inaugurated on January 20, 2009. Nine months later, he was named the 2009 Nobel Peace Prize laureate.\\nIdeologically a centrist New Democrat, during his first two years in office Obama signed many landmark bills into law. The main reforms that were passed include the Patient Protection and Affordable Care Act (often referred to as \"Obamacare\", shortened as the \"Affordable Care Act\"), the Dodd–Frank Wall Street Reform and Consumer Protection Act, and the Don\\'t Ask, Don\\'t Tell Repeal Act of 2010. The American Recovery and Reinvestment Act of 2009 and Tax Relief, Unemployment Insurance Reauthorization, and Job Creation Act of 2010 served as economic stimulus amidst the Great Recession. After a lengthy debate over the national debt limit, he signed the Budget Control and the American Taxpayer Relief Acts. In foreign policy, he increased U.S. troop levels in Afghanistan, reduced nuclear weapons with the United States–Russia New START treaty, and ended military involvement in the Iraq War. He ordered military involvement in Libya in opposition to Muammar Gaddafi; Gaddafi was killed by NATO-assisted forces. He also ordered the military operations that resulted in the deaths of Osama bin Laden and suspected Yemeni Al-Qaeda operative Anwar al-Awlaki.\\nAfter winning re-election by defeating Republican opponent Mitt Romney, Obama was sworn in for a second term in 2013. During this term, he promoted inclusiveness for LGBT Americans. His administration filed briefs that urged the Supreme Court to strike down same-sex marriage bans as unconstitutional (United States v. Windsor and Obergefell v. Hodges); same-sex marriage was fully legalized in 2015 after the Court ruled that a same-sex marriage ban was unconstitutional in Obergefell. He advocated for gun control in response to the Sandy Hook Elementary School shooting, indicating support for a ban on assault weapons, and issued wide-ranging executive actions concerning climate change and immigration. In foreign policy, he ordered military intervention in Iraq in response to gains made by ISIL after the 2011 withdrawal from Iraq, continued the process of ending U.S. combat operations in Afghanistan in 2016, promoted discussions that led to the 2015 Paris Agreement on global climate change, initiated sanctions against Russia following the invasion in Ukraine and again after Russian interference in the 2016 United States elections, brokered a nuclear deal with Iran, and normalized U.S. relations with Cuba. During his term in office, America\\'s reputation in global polling significantly improved.Evaluations of his presidency among historians, political scientists, and the general public place him among the upper tier of American presidents. Obama left office and retired in January 2017 and currently resides in Washington, D.C. A December 2018 Gallup poll found Obama to be the most admired man in America for an unprecedented 11th consecutive year, although Dwight D. Eisenhower was selected most admired in twelve non-consecutive years.\\n\\n\\n== Early life and career ==\\n\\nObama was born on August 4, 1961, at Kapiolani Medical Center for Women and Children in Honolulu, Hawaii. He is the only president who was born outside of the contiguous 48 states. He was born to a white mother and a black father. His mother, Ann Dunham (1942–1995), was born in Wichita, Kansas; she was mostly of English descent, with some German, Irish, Scottish, Swiss, and Welsh ancestry. His father, Barack Obama Sr. (1936–1982), was a Luo Kenyan from Nyang\\'oma Kogelo. Obama\\'s parents met in 1960 in a Russian language class at the University of Hawaii at Manoa, where his father was a foreign student on a scholarship. The couple married in Wailuku, Hawaii, on February 2, 1961, six months before Obama was born.In late August 1961 (a few weeks after he was born), Barack and his mother moved to the University of Washington in Seattle, where they lived for a year. During that time, the elder Obama completed his undergraduate degree in economics in Hawaii, graduating in June 1962. He then left to attend graduate school on a scholarship at Harvard University, where he earned an M.A. in economics. Obama\\'s parents divorced in March 1964. Obama Sr. returned to Kenya in 1964, where he married for a third time and worked for the Kenyan government as the Senior Economic Analyst in the Ministry of Finance. He visited his son in Hawaii only once, at Christmas time in 1971, before he was killed in an automobile accident in 1982, when Obama was 21 years old. Recalling his early childhood, Obama said, \"That my father looked nothing like the people around me – that he was black as pitch, my mother white as milk – barely registered in my mind.\" He described his struggles as a young adult to reconcile social perceptions of his multiracial heritage.In 1963, Dunham met Lolo Soetoro at the University of Hawaii; he was an Indonesian East–West Center graduate student in geography. The couple married on Molokai on March 15, 1965. After two one-year extensions of his J-1 visa, Lolo returned to Indonesia in 1966. His wife and stepson followed sixteen months later in 1967. The family initially lived in the Menteng Dalam neighborhood in the Tebet subdistrict of south Jakarta. From 1970, they lived in a wealthier neighborhood in the Menteng subdistrict of central Jakarta.\\n\\n\\n=== Education ===\\nObama started out in St. Francis Pre-Education from age three to five. From age six to ten, he then attended local Indonesian-language schools: Sekolah Dasar Katolik Santo Fransiskus Asisi (St. Francis of Assisi Catholic Elementary School) for two years and Sekolah Dasar Negeri Menteng 01 (State Elementary School Menteng 01/Besuki school) for one and a half years, supplemented by English-language Calvert School homeschooling by his mother. As a result of those four years in Jakarta, he was able to speak Indonesian fluently as a child. During his time in Indonesia, Obama\\'s step-father taught him to be resilient and gave him \"a pretty hardheaded assessment of how the world works\".In 1971, Obama returned to Honolulu to live with his maternal grandparents, Madelyn and Stanley Dunham. He attended Punahou School— a private college preparatory school— with the aid of a scholarship from fifth grade until he graduated from high school in 1979. In his youth, Obama went by the nickname \"Barry\". Obama lived with his mother and half-sister, Maya Soetoro, in Hawaii for three years from 1972 to 1975 while his mother was a graduate student in anthropology at the University of Hawaii. Obama chose to stay in Hawaii with his grandparents for high school at Punahou when his mother and half-sister returned to Indonesia in 1975 so his mother could begin anthropology field work. His mother spent most of the next two decades in Indonesia, divorcing Lolo in 1980 and earning a PhD degree in 1992, before dying in 1995 in Hawaii following unsuccessful treatment for ovarian and uterine cancer.Obama later reflected on his years in Honolulu and wrote: \"The opportunity that Hawaii offered – to experience a variety of cultures in a climate of mutual respect – became an integral part of my world view, and a basis for the values that I hold most dear.\" Obama has also written and talked about using alcohol, marijuana, and cocaine during his teenage years to \"push questions of who I was out of my mind\". Obama was also a member of the \"choom gang\", a self-named group of friends that spent time together and occasionally smoked marijuana.After graduating from high school in 1979, Obama moved to Los Angeles to attend Occidental College. In February 1981, Obama made his first public speech, calling for Occidental to participate in the disinvestment from South Africa in response to that nation\\'s policy of apartheid. In mid-1981, Obama traveled to Indonesia to visit his mother and half-sister Maya, and visited the families of college friends in Pakistan and India for three weeks. Later in 1981, he transferred as a junior to Columbia University in New York City, where he majored in political science with a specialty in international relations and in English literature and lived off-campus on West 109th Street. He graduated with a BA degree in 1983 and worked for about a year at the Business International Corporation, where he was a financial researcher and writer, then as a project coordinator for the New York Public Interest Research Group on the City College of New York campus for three months in 1985.\\n\\n\\n=== Family and personal life ===\\n\\nIn a 2006 interview, Obama highlighted the diversity of his extended family: \"It\\'s like a little mini-United Nations\", he said. \"I\\'ve got relatives who look like Bernie Mac, and I\\'ve got relatives who look like Margaret Thatcher.\" Obama has a half-sister with whom he was raised (Maya Soetoro-Ng) and seven other half-siblings from his Kenyan father\\'s family—six of them living. Obama\\'s mother was survived by her Kansas-born mother, Madelyn Dunham, until her death on November 2, 2008, two days before his election to the Presidency. Obama also has roots in Ireland; he met with his Irish cousins in Moneygall in May 2011. In Dreams from My Father, Obama ties his mother\\'s family history to possible Native American ancestors and distant relatives of Jefferson Davis, President of the Confederate States of America during the American Civil War. He also shares distant ancestors in common with George W. Bush and Dick Cheney, among others.\\n\\nObama is a supporter of the Chicago White Sox, and he threw out the first pitch at the 2005 ALCS when he was still a senator. In 2009, he threw out the ceremonial first pitch at the All-Star Game while wearing a White Sox jacket. He is also primarily a Chicago Bears football fan in the NFL, but in his childhood and adolescence was a fan of the Pittsburgh Steelers, and rooted for them ahead of their victory in Super Bowl XLIII 12 days after he took office as president. In 2011, Obama invited the 1985 Chicago Bears to the White House; the team had not visited the White House after their Super Bowl win in 1986 due to the Space Shuttle Challenger disaster. He plays basketball, a sport he participated in as a member of his high school\\'s varsity team, and he is left-handed.\\n\\nObama lived with anthropologist Sheila Miyoshi Jager while he was a community organizer in Chicago in the 1980s. He proposed to her twice, but both Jager and her parents turned him down. The relationship was only made public in May 2017, several months after Obama\\'s presidency had ended.In June 1989, Obama met Michelle Robinson when he was employed as a summer associate at the Chicago law firm of Sidley Austin. Robinson was assigned for three months as Obama\\'s adviser at the firm, and she joined him at several group social functions but declined his initial requests to date. They began dating later that summer, became engaged in 1991, and were married on October 3, 1992. The couple\\'s first daughter, Malia Ann, was born in 1998, followed by a second daughter, Natasha (\"Sasha\"), in 2001. The Obama daughters attended the University of Chicago Laboratory Schools. When they moved to Washington, D.C., in January 2009, the girls started at the Sidwell Friends School. The Obamas have two Portuguese Water Dogs; the first, a male named Bo, was a gift from Senator Ted Kennedy. In 2013, Bo was joined by Sunny, a female.\\n\\nIn 2005, the family applied the proceeds of a book deal and moved from a Hyde Park, Chicago condominium to a $1.6 million house (equivalent to $2.1 million in 2018) in neighboring Kenwood, Chicago. The purchase of an adjacent lot—and sale of part of it to Obama by the wife of developer, campaign donor and friend Tony Rezko—attracted media attention because of Rezko\\'s subsequent indictment and conviction on political corruption charges that were unrelated to Obama.In December 2007, Money Magazine estimated Obama\\'s net worth at $1.3 million (equivalent to $1.6 million in 2018) . Their 2009 tax return showed a household income of $5.5 million—up from about $4.2 million in 2007 and $1.6 million in 2005—mostly from sales of his books. On his 2010 income of $1.7 million, he gave 14% to non-profit organizations, including $131,000 to Fisher House Foundation, a charity assisting wounded veterans\\' families, allowing them to reside near where the veteran is receiving medical treatments. Per his 2012 financial disclosure, Obama may be worth as much as $10 million.In early 2010, Michelle spoke about her husband\\'s smoking habit and said that Barack had quit smoking.On his 55th birthday, August 4, 2016, Obama penned an essay in Glamour, in which he described how his daughters and the presidency have made him a feminist.\\n\\n\\n==== Religious views ====\\nObama is a Protestant Christian whose religious views developed in his adult life. He wrote in The Audacity of Hope that he \"was not raised in a religious household\". He described his mother, raised by non-religious parents, as being detached from religion, yet \"in many ways the most spiritually awakened person that I have ever known.\" He described his father as a \"confirmed atheist\" by the time his parents met, and his stepfather as \"a man who saw religion as not particularly useful.\" Obama explained how, through working with black churches as a community organizer while in his twenties, he came to understand \"the power of the African-American religious tradition to spur social change.\"\\n\\nIn January 2008, Obama told Christianity Today: \"I am a Christian, and I am a devout Christian. I believe in the redemptive death and resurrection of Jesus Christ. I believe that faith gives me a path to be cleansed of sin and have eternal life.\" On September 27, 2010, Obama released a statement commenting on his religious views saying, \"I\\'m a Christian by choice. My family didn\\'t – frankly, they weren\\'t folks who went to church every week. And my mother was one of the most spiritual people I knew, but she didn\\'t raise me in the church. So I came to my Christian faith later in life, and it was because the precepts of Jesus Christ spoke to me in terms of the kind of life that I would want to lead – being my brothers\\' and sisters\\' keeper, treating others as they would treat me.\"Obama met Trinity United Church of Christ pastor Rev. Jeremiah Wright in October 1987 and became a member of Trinity in 1992. During Obama\\'s first presidential campaign in May 2008, he resigned from Trinity after some of Wright\\'s statements were criticized. Since moving to Washington, D.C., in 2009, the Obama family has attended several Protestant churches, including Shiloh Baptist Church and St. John\\'s Episcopal Church, as well as Evergreen Chapel at Camp David, but the members of the family do not attend church on a regular basis.\\n\\n\\n=== Law career ===\\n\\n\\n==== Community organizer and Harvard Law School ====\\nTwo years after graduating from Columbia, Obama was back in Chicago when he was hired as director of the Developing Communities Project, a church-based community organization originally comprising eight Catholic parishes in Roseland, West Pullman, and Riverdale on Chicago\\'s South Side. He worked there as a community organizer from June 1985 to May 1988. He helped set up a job training program, a college preparatory tutoring program, and a tenants\\' rights organization in Altgeld Gardens. Obama also worked as a consultant and instructor for the Gamaliel Foundation, a community organizing institute. In mid-1988, he traveled for the first time in Europe for three weeks and then for five weeks in Kenya, where he met many of his paternal relatives for the first time.\\nObama entered Harvard Law School in the fall of 1988, living in nearby Somerville, Massachusetts. He was selected as an editor of the Harvard Law Review at the end of his first year, president of the journal in his second year, and research assistant to the constitutional scholar Laurence Tribe while at Harvard for two years. During his summers, he returned to Chicago, where he worked as an associate at the law firms of Sidley Austin in 1989 and Hopkins & Sutter in 1990. After graduating with a JD degree magna cum laude from Harvard in 1991, he returned to Chicago. Obama\\'s election as the first black president of the Harvard Law Review gained national media attention and led to a publishing contract and advance for a book about race relations, which evolved into a personal memoir. The manuscript was published in mid-1995 as Dreams from My Father.\\n\\n\\n==== Chicago Law School and civil rights attorney ====\\nIn 1991, Obama accepted a two-year position as Visiting Law and Government Fellow at the University of Chicago Law School to work on his first book. He then taught constitutional law at the University of Chicago Law School for twelve years, first as a lecturer from 1992 to 1996, and then as a senior lecturer from 1996 to 2004.From April to October 1992, Obama directed Illinois\\'s Project Vote, a voter registration campaign with ten staffers and seven hundred volunteer registrars; it achieved its goal of registering 150,000 of 400,000 unregistered African Americans in the state, leading Crain\\'s Chicago Business to name Obama to its 1993 list of \"40 under Forty\" powers to be.He joined Davis, Miner, Barnhill & Galland, a 13-attorney law firm specializing in civil rights litigation and neighborhood economic development, where he was an associate for three years from 1993 to 1996, then of counsel from 1996 to 2004. In 1994, he was listed as one of the lawyers in Buycks-Roberson v. Citibank Fed. Sav. Bank, 94 C 4094 (N.D. Ill.). This class action lawsuit was filed in 1994 with Selma Buycks-Roberson as lead plaintiff and alleged that Citibank Federal Savings Bank had engaged in practices forbidden under the Equal Credit Opportunity Act and the Fair Housing Act. The case was settled out of court. Final judgment was issued on May 13, 1998, with Citibank Federal Savings Bank agreeing to pay attorney fees. His law license became inactive in 2007.From 1994 to 2002, Obama served on the boards of directors of the Woods Fund of Chicago—which in 1985 had been the first foundation to fund the Developing Communities Project—and of the Joyce Foundation. He served on the board of directors of the Chicago Annenberg Challenge from 1995 to 2002, as founding president and chairman of the board of directors from 1995 to 1999.\\n\\n\\n=== Legislative career ===\\n\\n\\n==== Illinois State Senator (1997–2004) ====\\n\\nObama was elected to the Illinois Senate in 1996, succeeding Democratic State Senator Alice Palmer from Illinois\\'s 13th District, which, at that time, spanned Chicago South Side neighborhoods from Hyde Park–Kenwood south to South Shore and west to Chicago Lawn. Once elected, Obama gained bipartisan support for legislation that reformed ethics and health care laws. He sponsored a law that increased tax credits for low-income workers, negotiated welfare reform, and promoted increased subsidies for childcare. In 2001, as co-chairman of the bipartisan Joint Committee on Administrative Rules, Obama supported Republican Governor Ryan\\'s payday loan regulations and predatory mortgage lending regulations aimed at averting home foreclosures.He was reelected to the Illinois Senate in 1998, defeating Republican Yesse Yehudah in the general election, and was re-elected again in 2002. In 2000, he lost a Democratic primary race for Illinois\\'s 1st congressional district in the United States House of Representatives to four-term incumbent Bobby Rush by a margin of two to one.In January 2003, Obama became chairman of the Illinois Senate\\'s Health and Human Services Committee when Democrats, after a decade in the minority, regained a majority. He sponsored and led unanimous, bipartisan passage of legislation to monitor racial profiling by requiring police to record the race of drivers they detained, and legislation making Illinois the first state to mandate videotaping of homicide interrogations. During his 2004 general election campaign for the U.S. Senate, police representatives credited Obama for his active engagement with police organizations in enacting death penalty reforms. Obama resigned from the Illinois Senate in November 2004 following his election to the U.S. Senate.\\n\\n\\n==== 2004 U.S. Senate campaign ====\\n\\nIn May 2002, Obama commissioned a poll to assess his prospects in a 2004 U.S. Senate race. He created a campaign committee, began raising funds, and lined up political media consultant David Axelrod by August 2002. Obama formally announced his candidacy in January 2003.Obama was an early opponent of the George W. Bush administration\\'s 2003 invasion of Iraq. On October 2, 2002, the day President Bush and Congress agreed on the joint resolution authorizing the Iraq War, Obama addressed the first high-profile Chicago anti-Iraq War rally, and spoke out against the war. He addressed another anti-war rally in March 2003 and told the crowd that \"it\\'s not too late\" to stop the war.Decisions by Republican incumbent Peter Fitzgerald and his Democratic predecessor Carol Moseley Braun to not participate in the election resulted in wide-open Democratic and Republican primary contests involving 15 candidates. In the March 2004 primary election, Obama won in an unexpected landslide—which overnight made him a rising star within the national Democratic Party, started speculation about a presidential future, and led to the reissue of his memoir, Dreams from My Father. In July 2004, Obama delivered the keynote address at the 2004 Democratic National Convention, seen by 9.1 million viewers. His speech was well received and elevated his status within the Democratic Party.Obama\\'s expected opponent in the general election, Republican primary winner Jack Ryan, withdrew from the race in June 2004. Six weeks later, Alan Keyes accepted the Republican nomination to replace Ryan. In the November 2004 general election, Obama won with 70% of the vote.\\n\\n\\n==== U.S. Senator from Illinois (2005–08) ====\\n\\nObama was sworn in as a senator on January 3, 2005, becoming the only Senate member of the Congressional Black Caucus. CQ Weekly characterized him as a \"loyal Democrat\" based on analysis of all Senate votes from 2005 to 2007. Obama announced on November 13, 2008, that he would resign his Senate seat on November 16, 2008, before the start of the lame-duck session, to focus on his transition period for the presidency.\\n\\n\\n===== Legislation =====\\n\\nObama cosponsored the Secure America and Orderly Immigration Act. He introduced two initiatives that bore his name: Lugar–Obama, which expanded the Nunn–Lugar Cooperative Threat Reduction concept to conventional weapons; and the Federal Funding Accountability and Transparency Act of 2006, which authorized the establishment of USAspending.gov, a web search engine on federal spending. On June 3, 2008, Senator Obama—along with Senators Tom Carper, Tom Coburn, and John McCain—introduced follow-up legislation: Strengthening Transparency and Accountability in Federal Spending Act of 2008.Obama sponsored legislation that would have required nuclear plant owners to notify state and local authorities of radioactive leaks, but the bill failed to pass in the full Senate after being heavily modified in committee. Regarding tort reform, Obama voted for the Class Action Fairness Act of 2005 and the FISA Amendments Act of 2008, which grants immunity from civil liability to telecommunications companies complicit with NSA warrantless wiretapping operations.\\n\\nIn December 2006, President Bush signed into law the Democratic Republic of the Congo Relief, Security, and Democracy Promotion Act, marking the first federal legislation to be enacted with Obama as its primary sponsor. In January 2007, Obama and Senator Feingold introduced a corporate jet provision to the Honest Leadership and Open Government Act, which was signed into law in September 2007. Obama also introduced two unsuccessful bills: the Deceptive Practices and Voter Intimidation Prevention Act to criminalize deceptive practices in federal elections, and the Iraq War De-Escalation Act of 2007.Later in 2007, Obama sponsored an amendment to the Defense Authorization Act to add safeguards for personality-disorder military discharges. This amendment passed the full Senate in the spring of 2008. He sponsored the Iran Sanctions Enabling Act supporting divestment of state pension funds from Iran\\'s oil and gas industry, which was never enacted but later incorporated in the Comprehensive Iran Sanctions, Accountability, and Divestment Act of 2010; and co-sponsored legislation to reduce risks of nuclear terrorism. Obama also sponsored a Senate amendment to the State Children\\'s Health Insurance Program, providing one year of job protection for family members caring for soldiers with combat-related injuries.\\n\\n\\n===== Committees =====\\n\\nObama held assignments on the Senate Committees for Foreign Relations, Environment and Public Works and Veterans\\' Affairs through December 2006. In January 2007, he left the Environment and Public Works committee and took additional assignments with Health, Education, Labor and Pensions and Homeland Security and Governmental Affairs. He also became Chairman of the Senate\\'s subcommittee on European Affairs. As a member of the Senate Foreign Relations Committee, Obama made official trips to Eastern Europe, the Middle East, Central Asia and Africa. He met with Mahmoud Abbas before Abbas became President of the Palestinian National Authority, and gave a speech at the University of Nairobi in which he condemned corruption within the Kenyan government.\\n\\n\\n== Presidential campaigns ==\\n\\n\\n=== 2008 ===\\n\\nOn February 10, 2007, Obama announced his candidacy for President of the United States in front of the Old State Capitol building in Springfield, Illinois. The choice of the announcement site was viewed as symbolic because it was also where Abraham Lincoln delivered his historic \"House Divided\" speech in 1858. Obama emphasized issues of rapidly ending the Iraq War, increasing energy independence, and reforming the health care system, in a campaign that projected themes of hope and change.Numerous candidates entered the Democratic Party presidential primaries. The field narrowed to a duel between Obama and Senator Hillary Clinton after early contests, with the race remaining close throughout the primary process but with Obama gaining a steady lead in pledged delegates due to better long-range planning, superior fundraising, dominant organizing in caucus states, and better exploitation of delegate allocation rules. On June 7, 2008, Clinton ended her campaign and endorsed Obama.\\n\\nOn August 23, Obama announced his selection of Delaware Senator Joe Biden as his vice presidential running mate. Obama selected Biden from a field speculated to include former Indiana Governor and Senator Evan Bayh and Virginia Governor Tim Kaine. At the Democratic National Convention in Denver, Colorado, Hillary Clinton called for her supporters to endorse Obama, and she and Bill Clinton gave convention speeches in his support. Obama delivered his acceptance speech, not at the center where the Democratic National Convention was held, but at Invesco Field at Mile High to a crowd of approximately 84,000 people; the speech was viewed by over 38 million people worldwide.During both the primary process and the general election, Obama\\'s campaign set numerous fundraising records, particularly in the quantity of small donations. On June 19, 2008, Obama became the first major-party presidential candidate to turn down public financing in the general election since the system was created in 1976.\\n\\nJohn McCain was nominated as the Republican candidate, and he selected Sarah Palin as his running mate. The two candidates engaged in three presidential debates in September and October 2008. On November 4, Obama won the presidency with 365 electoral votes to 173 received by McCain. Obama won 52.9% of the popular vote to McCain\\'s 45.7%. He became the first African American to be elected president. Obama delivered his victory speech before hundreds of thousands of supporters in Chicago\\'s Grant Park.\\n\\n\\n=== 2012 ===\\n\\nOn April 4, 2011, Obama announced his reelection campaign for 2012 in a video titled \"It Begins with Us\" that he posted on his website and filed election papers with the Federal Election Commission. As the incumbent president he ran virtually unopposed in the Democratic Party presidential primaries, and on April 3, 2012, Obama had secured the 2778 convention delegates needed to win the Democratic nomination.\\n\\nAt the Democratic National Convention in Charlotte, North Carolina, Obama and Joe Biden were formally nominated by former President Bill Clinton as the Democratic Party candidates for president and vice president in the general election. Their main opponents were Republicans Mitt Romney, the former governor of Massachusetts, and Representative Paul Ryan of Wisconsin.On November 6, 2012, Obama won 332 electoral votes, exceeding the 270 required for him to be reelected as president. With 51.1% of the popular vote, Obama became the first Democratic president since Franklin D. Roosevelt to win the majority of the popular vote twice. President Obama addressed supporters and volunteers at Chicago\\'s McCormick Place after his reelection and said: \"Tonight you voted for action, not politics as usual. You elected us to focus on your jobs, not ours. And in the coming weeks and months, I am looking forward to reaching out and working with leaders of both parties.\"\\n\\n\\n== Presidency (2009–2017) ==\\n\\n\\n=== First 100 days ===\\n\\nThe inauguration of Barack Obama as the 44th President took place on January 20, 2009. In his first few days in office, Obama issued executive orders and presidential memoranda directing the U.S. military to develop plans to withdraw troops from Iraq. He ordered the closing of the Guantanamo Bay detention camp, but Congress prevented the closure by refusing to appropriate the required funds and preventing moving any Guantanamo detainee into the U.S. or to other countries. Obama reduced the secrecy given to presidential records. He also revoked President George W. Bush\\'s restoration of President Ronald Reagan\\'s Mexico City Policy prohibiting federal aid to international family planning organizations that perform or provide counseling about abortion.\\n\\n\\n=== Domestic policy ===\\n\\nThe first bill signed into law by Obama was the Lilly Ledbetter Fair Pay Act of 2009, relaxing the statute of limitations for equal-pay lawsuits. Five days later, he signed the reauthorization of the State Children\\'s Health Insurance Program (SCHIP) to cover an additional 4 million uninsured children. In March 2009, Obama reversed a Bush-era policy that had limited funding of embryonic stem cell research and pledged to develop \"strict guidelines\" on the research.\\n\\nObama appointed two women to serve on the Supreme Court in the first two years of his Presidency. He nominated Sonia Sotomayor on May 26, 2009 to replace retiring Associate Justice David Souter; she was confirmed on August 6, 2009, becoming the first Supreme Court Justice of Hispanic descent. Obama nominated Elena Kagan on May 10, 2010 to replace retiring Associate Justice John Paul Stevens. She was confirmed on August 5, 2010, bringing the number of women sitting simultaneously on the Court to three justices for the first time in American history.On March 30, 2010, Obama signed the Health Care and Education Reconciliation Act, a reconciliation bill that ended the process of the federal government giving subsidies to private banks to give out federally insured loans, increased the Pell Grant scholarship award, and made changes to the Patient Protection and Affordable Care Act.\\n\\nIn a major space policy speech in April 2010, Obama announced a planned change in direction at NASA, the U.S. space agency. He ended plans for a return of human spaceflight to the moon and development of the Ares I rocket, Ares V rocket and Constellation program, in favor of funding Earth science projects, a new rocket type, and research and development for an eventual manned mission to Mars, and ongoing missions to the International Space Station.President Obama\\'s 2011 State of the Union Address focused on themes of education and innovation, stressing the importance of innovation economics to make the United States more competitive globally. He spoke of a five-year freeze in domestic spending, eliminating tax breaks for oil companies and reversing tax cuts for the wealthiest Americans, banning congressional earmarks, and reducing healthcare costs. He promised that the United States would have one million electric vehicles on the road by 2015 and would be 80% reliant on \"clean\" electricity.\\n\\n\\n==== LGBT rights ====\\nOn October 8, 2009, Obama signed the Matthew Shepard and James Byrd Jr. Hate Crimes Prevention Act, a measure that expanded the 1969 United States federal hate-crime law to include crimes motivated by a victim\\'s actual or perceived gender, sexual orientation, gender identity, or disability.On October 30, 2009, Obama lifted the ban on travel to the United States by those infected with HIV, which was celebrated by Immigration Equality.On December 22, 2010, Obama signed the Don\\'t Ask, Don\\'t Tell Repeal Act of 2010, which fulfilled a key promise made in the 2008 presidential campaign to end the Don\\'t ask, don\\'t tell policy of 1993 that had prevented gay and lesbian people from serving openly in the United States Armed Forces. In 2016, the Pentagon ended the policy that also barred transgender people from serving openly in the military.As a candidate for the Illinois state senate in 1996, Obama had said that he favored legalizing same-sex marriage. By the time of his Senate run in 2004, he said that he supported civil unions and domestic partnerships for same-sex partners, but he opposed same-sex marriages. In 2008, he reaffirmed this position by stating \"I believe marriage is between a man and a woman. I am not in favor of gay marriage.\" On May 9, 2012, shortly after the official launch of his campaign for re-election as president, Obama said his views had evolved, and he publicly affirmed his personal support for the legalization of same-sex marriage, becoming the first sitting U.S. president to do so.\\n\\nDuring his second inaugural address on January 21, 2013, Obama became the first U.S. President in office to call for full equality for gay Americans: \"Our journey is not complete until our gay brothers and sisters are treated like anyone else under the law – for if we are truly created equal, then surely the love we commit to one another must be equal as well.\" This was the first time that a president mentioned gay rights or the word \"gay\" in an inaugural address.In 2013, the Obama Administration filed briefs that urged the Supreme Court to rule in favor of same-sex couples in the cases of Hollingsworth v. Perry (regarding same-sex marriage) and United States v. Windsor (regarding the Defense of Marriage Act). Then, following the Supreme Court\\'s 2015 decision in Obergefell v. Hodges (ruling same-sex marriage to be a fundamental right), Obama asserted that, \"This decision affirms what millions of Americans already believe in their hearts: When all Americans are treated as equal we are all more free.\"On July 30, 2015, the White House Office of National AIDS Policy revised its strategy for addressing the disease, which included widespread testing and linkage to healthcare, which was celebrated by the Human Rights Campaign.\\n\\n\\n==== White House advisory and oversight groups ====\\nOn March 11, 2009, Obama created the White House Council on Women and Girls, which formed part of the Office of Intergovernmental Affairs, having been established by Executive Order 13506 with a broad mandate to advise him on issues relating to the welfare of American women and girls. The Council was chaired by Senior Advisor to the President Valerie Jarrett. Obama also established the White House Task Force to Protect Students from Sexual Assault through a government memorandum on January 22, 2014, with a broad mandate to advise him on issues relating to sexual assault on college and university campuses throughout the United States. The co-chairs of the Task Force were Vice President Joe Biden and Jarrett. The Task Force was a development out of the White House Council on Women and Girls and Office of the Vice President of the United States, and prior to that, the 1994 Violence Against Women Act that was first drafted by Biden.\\n\\n\\n==== Economic policy ====\\n\\nOn February 17, 2009, Obama signed the American Recovery and Reinvestment Act of 2009, a $787 billion economic stimulus package aimed at helping the economy recover from the deepening worldwide recession. The act includes increased federal spending for health care, infrastructure, education, various tax breaks and incentives, and direct assistance to individuals.\\n\\nIn March, Obama\\'s Treasury Secretary, Timothy Geithner, took further steps to manage the financial crisis, including introducing the Public–Private Investment Program for Legacy Assets, which contains provisions for buying up to two trillion dollars in depreciated real estate assets.Obama intervened in the troubled automotive industry in March 2009, renewing loans for General Motors and Chrysler to continue operations while reorganizing. Over the following months the White House set terms for both firms\\' bankruptcies, including the sale of Chrysler to Italian automaker Fiat and a reorganization of GM giving the U.S. government a temporary 60% equity stake in the company, with the Canadian government taking a 12% stake. In June 2009, dissatisfied with the pace of economic stimulus, Obama called on his cabinet to accelerate the investment. He signed into law the Car Allowance Rebate System, known colloquially as \"Cash for Clunkers\", that temporarily boosted the economy.The Bush and Obama administrations authorized spending and loan guarantees from the Federal Reserve and the Treasury Department. These guarantees totaled about $11.5 trillion, but only $3 trillion was spent by the end of November 2009. Obama and the Congressional Budget Office predicted the 2010 budget deficit would be $1.5 trillion or 10.6% of the nation\\'s gross domestic product (GDP) compared to the 2009 deficit of $1.4 trillion or 9.9% of GDP. For 2011, the administration predicted the deficit would shrink to $1.34 trillion, and the 10-year deficit would increase to $8.53 trillion or 90% of GDP. The most recent increase in the U.S. debt ceiling to $17.2 trillion took effect in February 2014. On August 2, 2011, after a lengthy congressional debate over whether to raise the nation\\'s debt limit, Obama signed the bipartisan Budget Control Act of 2011. The legislation enforces limits on discretionary spending until 2021, establishes a procedure to increase the debt limit, creates a Congressional Joint Select Committee on Deficit Reduction to propose further deficit reduction with a stated goal of achieving at least $1.5 trillion in budgetary savings over 10 years, and establishes automatic procedures for reducing spending by as much as $1.2 trillion if legislation originating with the new joint select committee does not achieve such savings. By passing the legislation, Congress was able to prevent a U.S. government default on its obligations.\\n\\nAs it did throughout 2008, the unemployment rate rose in 2009, reaching a peak in October at 10.0% and averaging 10.0% in the fourth quarter. Following a decrease to 9.7% in the first quarter of 2010, the unemployment rate fell to 9.6% in the second quarter, where it remained for the rest of the year. Between February and December 2010, employment rose by 0.8%, which was less than the average of 1.9% experienced during comparable periods in the past four employment recoveries. By November 2012, the unemployment rate fell to 7.7%, decreasing to 6.7% in the last month of 2013. During 2014, the unemployment rate continued to decline, falling to 6.3% in the first quarter. GDP growth returned in the third quarter of 2009, expanding at a rate of 1.6%, followed by a 5.0% increase in the fourth quarter. Growth continued in 2010, posting an increase of 3.7% in the first quarter, with lesser gains throughout the rest of the year. In July 2010, the Federal Reserve noted that economic activity continued to increase, but its pace had slowed, and chairman Ben Bernanke said the economic outlook was \"unusually uncertain\". Overall, the economy expanded at a rate of 2.9% in 2010.The Congressional Budget Office (CBO) and a broad range of economists credit Obama\\'s stimulus plan for economic growth. The CBO released a report stating that the stimulus bill increased employment by 1–2.1 million, while conceding that \"It is impossible to determine how many of the reported jobs would have existed in the absence of the stimulus package.\" Although an April 2010, survey of members of the National Association for Business Economics showed an increase in job creation (over a similar January survey) for the first time in two years, 73% of 68 respondents believed that the stimulus bill has had no impact on employment. The economy of the United States has grown faster than the other original NATO members by a wider margin under President Obama than it has anytime since the end of World War II. The Organisation for Economic Co-operation and Development credits the much faster growth in the United States to the stimulus plan of the US and the austerity measures in the European Union.Within a month of the 2010 midterm elections, Obama announced a compromise deal with the Congressional Republican leadership that included a temporary, two-year extension of the 2001 and 2003 income tax rates, a one-year payroll tax reduction, continuation of unemployment benefits, and a new rate and exemption amount for estate taxes. The compromise overcame opposition from some in both parties, and the resulting $858 billion Tax Relief, Unemployment Insurance Reauthorization, and Job Creation Act of 2010 passed with bipartisan majorities in both houses of Congress before Obama signed it on December 17, 2010.In December 2013, Obama declared that growing income inequality is a \"defining challenge of our time\" and called on Congress to bolster the safety net and raise wages. This came on the heels of the nationwide strikes of fast-food workers and Pope Francis\\' criticism of inequality and trickle-down economics.Obama urged Congress to ratify a 12-nation free trade pact called the Trans-Pacific Partnership.\\n\\n\\n==== Environmental policy ====\\n\\nOn September 30, 2009, the Obama administration proposed new regulations on power plants, factories, and oil refineries in an attempt to limit greenhouse gas emissions and to curb global warming.On April 20, 2010, an explosion destroyed an offshore drilling rig at the Macondo Prospect in the Gulf of Mexico, causing a major sustained oil leak. Obama visited the Gulf, announced a federal investigation, and formed a bipartisan commission to recommend new safety standards, after a review by Secretary of the Interior Ken Salazar and concurrent Congressional hearings. He then announced a six-month moratorium on new deepwater drilling permits and leases, pending regulatory review. As multiple efforts by BP failed, some in the media and public expressed confusion and criticism over various aspects of the incident, and stated a desire for more involvement by Obama and the federal government.In July 2013, Obama expressed reservations and stated he \"would reject the Keystone XL pipeline if it increased carbon pollution\" or \"greenhouse emissions\". Obama\\'s advisers called for a halt to petroleum exploration in the Arctic in January 2013. On February 24, 2015, Obama vetoed a bill that would authorize the pipeline. It was the third veto of Obama\\'s presidency and his first major veto.Obama emphasized the conservation of federal lands during his term in office. He used his power under the Antiquities Act to create 25 new national monuments during his presidency and expand four others, protecting a total of 553,000,000 acres (224,000,000 ha) of federal lands and waters, more than any other U.S. president.\\n\\n\\n==== Health care reform ====\\n\\nObama called for Congress to pass legislation reforming health care in the United States, a key campaign promise and a top legislative goal. He proposed an expansion of health insurance coverage to cover the uninsured, to cap premium increases, and to allow people to retain their coverage when they leave or change jobs. His proposal was to spend $900 billion over 10 years and include a government insurance plan, also known as the public option, to compete with the corporate insurance sector as a main component to lowering costs and improving quality of health care. It would also make it illegal for insurers to drop sick people or deny them coverage for pre-existing conditions, and require every American to carry health coverage. The plan also includes medical spending cuts and taxes on insurance companies that offer expensive plans.\\n\\nOn July 14, 2009, House Democratic leaders introduced a 1,017-page plan for overhauling the U.S. health care system, which Obama wanted Congress to approve by the end of 2009. After much public debate during the Congressional summer recess of 2009, Obama delivered a speech to a joint session of Congress on September 9 where he addressed concerns over the proposals. In March 2009, Obama lifted a ban on using federal funds for stem cell research.On November 7, 2009, a health care bill featuring the public option was passed in the House. On December 24, 2009, the Senate passed its own bill—without a public option—on a party-line vote of 60–39. On March 21, 2010, the Patient Protection and Affordable Care Act (ACA) passed by the Senate in December was passed in the House by a vote of 219 to 212. Obama signed the bill into law on March 23, 2010.The ACA includes health-related provisions, most of which took effect in 2014, including expanding Medicaid eligibility for people making up to 133% of the federal poverty level (FPL) starting in 2014, subsidizing insurance premiums for people making up to 400% of the FPL ($88,000 for family of four in 2010) so their maximum \"out-of-pocket\" payment for annual premiums will be from 2% to 9.5% of income, providing incentives for businesses to provide health care benefits, prohibiting denial of coverage and denial of claims based on pre-existing conditions, establishing health insurance exchanges, prohibiting annual coverage caps, and support for medical research. According to White House and CBO figures, the maximum share of income that enrollees would have to pay would vary depending on their income relative to the federal poverty level.\\n\\nThe costs of these provisions are offset by taxes, fees, and cost-saving measures, such as new Medicare taxes for those in high-income brackets, taxes on indoor tanning, cuts to the Medicare Advantage program in favor of traditional Medicare, and fees on medical devices and pharmaceutical companies; there is also a tax penalty for those who do not obtain health insurance, unless they are exempt due to low income or other reasons. In March 2010, the CBO estimated that the net effect of both laws will be a reduction in the federal deficit by $143 billion over the first decade.The law faced several legal challenges, primarily based on the argument that an individual mandate requiring Americans to buy health insurance was unconstitutional. On June 28, 2012, the Supreme Court ruled by a 5–4 vote in National Federation of Independent Business v. Sebelius that the mandate was constitutional under the U.S. Congress\\'s taxing authority. In Burwell v. Hobby Lobby the Court ruled that \"closely-held\" for-profit corporations could be exempt on religious grounds under the Religious Freedom Restoration Act from regulations adopted under the ACA that would have required them to pay for insurance that covered certain contraceptives. In June 2015, the Court ruled 6–3 in King v. Burwell that subsidies to help individuals and families purchase health insurance were authorized for those doing so on both the federal exchange and state exchanges, not only those purchasing plans \"established by the State\", as the statute reads.\\n\\n\\n==== Energy policy ====\\n\\nPrior to June 2014, Obama offered substantial support for a broadly-based \"All of the above\" approach to domestic energy policy, which Obama has maintained since his first term and which he last confirmed at his State of the Union speech in January 2014 to a mixed reception by both parties. In June 2014, Obama made indications that his administration would consider a shift towards an energy policy more closely tuned to the manufacturing industry and its impact on the domestic economy. Obama\\'s approach of selectively combining regulation and incentive to various issues in the domestic energy policy, such as coal mining and oil fracking, has received mixed commentary for not being as responsive to the needs of the domestic manufacturing sector as needed, following claims that the domestic manufacturing sector utilizes as much as a third of the nation\\'s available energy resources.\\n\\n\\n==== Gun control ====\\n\\nOn January 16, 2013, one month after the Sandy Hook Elementary School shooting, Obama signed 23 executive orders and outlined a series of sweeping proposals regarding gun control. He urged Congress to reintroduce an expired ban on military-style assault weapons, such as those used in several recent mass shootings, impose limits on ammunition magazines to 10 rounds, introduce background checks on all gun sales, pass a ban on possession and sale of armor-piercing bullets, introduce harsher penalties for gun-traffickers, especially unlicensed dealers who buy arms for criminals and approving the appointment of the head of the federal Bureau of Alcohol, Tobacco, Firearms and Explosives for the first time since 2006. On January 5, 2016, Obama announced new executive actions extending background check requirements to more gun sellers. In a 2016 editorial in the New York Times, Obama compared the struggle for what he termed \"common-sense gun reform\" to women\\'s suffrage and other civil rights movements in American history.\\n\\n\\n==== 2010 midterm elections ====\\n\\nObama called the November 2, 2010 election, where the Democratic Party lost 63 seats in, and control of, the House of Representatives, \"humbling\" and a \"shellacking\". He said that the results came because not enough Americans had felt the effects of the economic recovery.\\n\\n\\n==== Cybersecurity and Internet policy ====\\nOn November 10, 2014, President Obama recommended the Federal Communications Commission reclassify broadband Internet service as a telecommunications service in order to preserve net neutrality. On February 12, 2013, President Obama signed Executive Order 13636, \"Improving Critical Infrastructure Cybersecurity.\"\\n\\n\\n=== Foreign policy ===\\n\\n \\nIn February and March 2009, Vice President Joe Biden and Secretary of State Hillary Clinton made separate overseas trips to announce a \"new era\" in U.S. foreign relations with Russia and Europe, using the terms \"break\" and \"reset\" to signal major changes from the policies of the preceding administration. Obama attempted to reach out to Arab leaders by granting his first interview to an Arab satellite TV network, Al Arabiya.On March 19, Obama continued his outreach to the Muslim world, releasing a New Year\\'s video message to the people and government of Iran. In April, Obama gave a speech in Ankara, Turkey, which was well received by many Arab governments. On June 4, 2009, Obama delivered a speech at Cairo University in Egypt calling for \"A New Beginning\" in relations between the Islamic world and the United States and promoting Middle East peace.\\n\\nOn June 26, 2009, Obama responded to the Iranian government\\'s actions towards protesters following Iran\\'s 2009 presidential election by saying: \"The violence perpetrated against them is outrageous. We see it and we condemn it.\" While in Moscow on July 7, he responded Vice President Biden\\'s comment on a possible Israeli military strike on Iran by saying: \"We have said directly to the Israelis that it is important to try and resolve this in an international setting in a way that does not create major conflict in the Middle East.\"On September 24, 2009, Obama became the first sitting U.S. President to preside over a meeting of the United Nations Security Council.In March 2010, Obama took a public stance against plans by the government of Israeli Prime Minister Benjamin Netanyahu to continue building Jewish housing projects in predominantly Arab neighborhoods of East Jerusalem. During the same month, an agreement was reached with the administration of Russian President Dmitry Medvedev to replace the 1991 Strategic Arms Reduction Treaty with a new pact reducing the number of long-range nuclear weapons in the arsenals of both countries by about one-third. Obama and Medvedev signed the New START treaty in April 2010, and the U.S. Senate ratified it in December 2010.\\n\\nIn December 2011, Obama instructed agencies to consider LGBT rights when issuing financial aid to foreign countries. In August 2013, he criticized Russia\\'s law that discriminated against gays, but he stopped short of advocating a boycott of the upcoming 2014 Winter Olympics in Sochi, Russia.In December 2014, Obama announced that he intended to normalize relationships between Cuba and the United States. The countries\\' respective \"interests sections\" in one another\\'s capitals were upgraded to embassies on July 20, 2015.\\nIn March 2015, Obama declared that he had authorized U.S. forces to provide logistical and intelligence support to the Saudis in their military intervention in Yemen, establishing a \"Joint Planning Cell\" with Saudi Arabia. In 2016, the Obama administration proposed a series of arms deals with Saudi Arabia worth $115 billion. Obama halted the sale of guided munition technology to Saudi Arabia after Saudi warplanes targeted a funeral in Yemen\\'s capital Sanaa, killing more than 140 people.Before leaving office, Obama said German Chancellor Angela Merkel had been his \"closest international partner\" throughout his tenure as president.\\n\\n\\n==== War in Iraq ====\\n\\nOn February 27, 2009, Obama announced that combat operations in Iraq would end within 18 months. His remarks were made to a group of Marines preparing for deployment to Afghanistan. Obama said, \"Let me say this as plainly as I can: by August 31, 2010, our combat mission in Iraq will end.\" The Obama administration scheduled the withdrawal of combat troops to be completed by August 2010, decreasing troop\\'s levels from 142,000 while leaving a transitional force of about 50,000 in Iraq until the end of 2011. On August 19, 2010, the last U.S. combat brigade exited Iraq. Remaining troops transitioned from combat operations to counter-terrorism and the training, equipping, and advising of Iraqi security forces. On August 31, 2010, Obama announced that the United States combat mission in Iraq was over. On October 21, 2011 President Obama announced that all U.S. troops would leave Iraq in time to be \"home for the holidays\".\\n\\nIn June 2014, following the capture of Mosul by ISIS, Obama sent 275 troops to provide support and security for U.S. personnel and the U.S. Embassy in Baghdad. ISIS continued to gain ground and to commit widespread massacres and ethnic cleansing.In August 2014, during the Sinjar massacre, Obama ordered a campaign of U.S. airstrikes against ISIS.By the end of 2014, 3,100 American ground troops were committed to the conflict and 16,000 sorties were flown over the battlefield, primarily by U.S. Air Force and Navy pilots.In early 2015, with the addition of the \"Panther Brigade\" of the 82nd Airborne Division the number of U.S. ground troops in Iraq surged to 4,400, and by July American-led coalition air forces counted 44,000 sorties over the battlefield.\\n\\n\\n==== War in Afghanistan ====\\n\\nEarly in his presidency, Obama moved to bolster U.S. troop strength in Afghanistan. He announced an increase in U.S. troop levels to 17,000 military personnel in February 2009 to \"stabilize a deteriorating situation in Afghanistan\", an area he said had not received the \"strategic attention, direction and resources it urgently requires\". He replaced the military commander in Afghanistan, General David D. McKiernan, with former Special Forces commander Lt. Gen. Stanley A. McChrystal in May 2009, indicating that McChrystal\\'s Special Forces experience would facilitate the use of counterinsurgency tactics in the war. On December 1, 2009, Obama announced the deployment of an additional 30,000 military personnel to Afghanistan and proposed to begin troop withdrawals 18 months from that date; this took place in July 2011. David Petraeus replaced McChrystal in June 2010, after McChrystal\\'s staff criticized White House personnel in a magazine article. In February 2013, Obama said the U.S. military would reduce the troop level in Afghanistan from 68,000 to 34,000 U.S. troops by February 2014.In October 2015, the White House announced a plan to keep U.S. Forces in Afghanistan indefinitely in light of the deteriorating security situation.\\n\\n\\n==== Israel ====\\n\\nIn 2011, the United States vetoed a Security Council resolution condemning Israeli settlements, with the United States being the only nation to do so. Obama supports the two-state solution to the Arab–Israeli conflict based on the 1967 borders with land swaps.In June 2011, Obama said that the bond between the United States and Israel is \"unbreakable\". During the initial years of the Obama administration, the U.S. increased military cooperation with Israel, including increased military aid, re-establishment of the U.S.-Israeli Joint Political Military Group and the Defense Policy Advisory Group, and an increase in visits among high-level military officials of both countries. The Obama administration asked Congress to allocate money toward funding the Iron Dome program in response to the waves of Palestinian rocket attacks on Israel.In 2013, Jeffrey Goldberg reported that, in Obama\\'s view, \"with each new settlement announcement, Netanyahu is moving his country down a path toward near-total isolation.\" In 2014, Obama likened the Zionist movement to the Civil Rights Movement in the United States. He said that both movements seek to bring justice and equal rights to historically persecuted peoples. He explained, \"To me, being pro-Israel and pro-Jewish is part and parcel with the values that I\\'ve been fighting for since I was politically conscious and started getting involved in politics.\" Obama expressed support for Israel\\'s right to defend itself during the 2014 Israel–Gaza conflict. In 2015, Obama was harshly criticized by Israel for advocating and signing the Iran Nuclear Deal; Israeli Prime Minister Benjamin Netanyahu, who had advocated the U.S. congress to oppose it, said the deal was \"dangerous\" and \"bad\".On December 23, 2016, under the Obama Administration, the United States abstained from United Nations Security Council Resolution 2334, which condemned Israeli settlement building in the occupied Palestinian territories as a violation of international law, effectively allowing it to pass. Netanyahu strongly criticized the Obama Administration\\'s actions, and the Israeli government withdrew its annual dues from the organization, which totaled $6 million, on January 6, 2017. On January 5, 2017, the United States House of Representatives voted 342–80 to condemn the UN Resolution.\\n\\n\\n==== Libya ====\\n\\nIn February 2011, protests in Libya began against long-time dictator Muammar Gaddafi as part of the Arab Spring. They soon turned violent. In March, as forces loyal to Gaddafi advanced on rebels across Libya, calls for a no-fly zone came from around the world, including Europe, the Arab League, and a resolution passed unanimously by the U.S. Senate. In response to the unanimous passage of United Nations Security Council Resolution 1973 on March 17, Gaddafi—who had previously vowed to \"show no mercy\" to the rebels of Benghazi—announced an immediate cessation of military activities, yet reports came in that his forces continued shelling Misrata. The next day, on Obama\\'s orders, the U.S. military took part in air strikes to destroy the Libyan government\\'s air defense capabilities to protect civilians and enforce a no-fly-zone, including the use of Tomahawk missiles, B-2 Spirits, and fighter jets. Six days later, on March 25, by unanimous vote of all of its 28 members, NATO took over leadership of the effort, dubbed Operation Unified Protector. Some Representatives questioned whether Obama had the constitutional authority to order military action in addition to questioning its cost, structure and aftermath.\\n\\n\\n==== Syrian Civil War ====\\n\\nOn August 18, 2011, several months after the start of the Syrian Civil War, Obama issued a written statement that said: \"The time has come for President Assad to step aside.\" This stance was reaffirmed in November 2015. In 2012, Obama authorized multiple programs run by the CIA and the Pentagon to train anti-Assad rebels. The Pentagon-run program was later found to have failed and was formally abandoned in October 2015.In the wake of a chemical weapons attack in Syria, formally blamed by the Obama administration on the Assad government, Obama chose not to enforce the \"red line\" he had pledged and, rather than authorize the promised military action against Assad, went along with the Russia-brokered deal that led to Assad giving up chemical weapons; however attacks with chlorine gas continued. In 2014, Obama authorized an air campaign aimed primarily at ISIL, but repeatedly promised that the U.S. would not deploy ground troops in Syria.\\n\\n\\n==== Death of Osama bin Laden ====\\n\\nStarting with information received from Central Intelligence Agency operatives in July 2010, the CIA developed intelligence over the next several months that determined what they believed to be the hideout of Osama bin Laden. He was living in seclusion in a large compound in Abbottabad, Pakistan, a suburban area 35 miles (56 km) from Islamabad. CIA head Leon Panetta reported this intelligence to President Obama in March 2011. Meeting with his national security advisers over the course of the next six weeks, Obama rejected a plan to bomb the compound, and authorized a \"surgical raid\" to be conducted by United States Navy SEALs. The operation took place on May 1, 2011, and resulted in the shooting death of bin Laden and the seizure of papers, computer drives and disks from the compound. DNA testing was one of five methods used to positively identify bin Laden\\'s corpse, which was buried at sea several hours later. Within minutes of the President\\'s announcement from Washington, DC, late in the evening on May 1, there were spontaneous celebrations around the country as crowds gathered outside the White House, and at New York City\\'s Ground Zero and Times Square. Reaction to the announcement was positive across party lines, including from former presidents Bill Clinton and George W. Bush.\\n\\n\\n==== Iran nuclear talks ====\\n\\nIn November 2013, the Obama administration opened negotiations with Iran to prevent it from acquiring nuclear weapons, which included an interim agreement. Negotiations took two years with numerous delays, with a deal being announced July 14, 2015. The deal, titled the \"Joint Comprehensive Plan of Action\", saw the removal of sanctions in exchange for measures that would prevent Iran from producing nuclear weapons. While Obama hailed the agreement as being a step towards a more hopeful world, the deal drew strong criticism from Republican and conservative quarters, and from Israeli prime minister Benjamin Netanyahu. In order to advance the deal, the Obama administration shielded Hezbollah from the Drug Enforcement Administration\\'s Project Cassandra investigation regarding drug smuggling and from the Central Intelligence Agency.\\n\\n\\n==== Relations with Cuba ====\\n\\nSince the spring of 2013, secret meetings were conducted between the United States and Cuba in the neutral locations of Canada and Vatican City. The Vatican first became involved in 2013 when Pope Francis advised the U.S. and Cuba to exchange prisoners as a gesture of goodwill. On December 10, 2013, Cuban President Raúl Castro, in a significant public moment, greeted and shook hands with Obama at the Nelson Mandela memorial service in Johannesburg.In December 2014, after the secret meetings, it was announced that Obama, with Pope Francis as an intermediary, had negotiated a restoration of relations with Cuba, after nearly sixty years of détente. Popularly dubbed the Cuban Thaw, The New Republic deemed the Cuban Thaw to be \"Obama\\'s finest foreign policy achievement.\" On July 1, 2015, President Barack Obama announced that formal diplomatic relations between Cuba and the United States would resume, and embassies would be opened in Washington and Havana. The countries\\' respective \"interests sections\" in one another\\'s capitals were upgraded to embassies on July 20 and August 13, 2015, respectively.Obama visited Havana, Cuba for two days in March 2016, becoming the first sitting U.S. President to arrive since Calvin Coolidge in 1928.\\n\\n\\n==== Africa ====\\nObama spoke in front of the African Union in Addis Ababa, Ethiopia, on July 29, 2015, the first sitting U.S. president to do so. He gave a speech encouraging the world to increase economic ties via investments and trade with the continent, and lauded the progresses made in education, infrastructure, and economy. He also criticized the lack of democracy and leaders who refuse to step aside, discrimination against minorities (LGBT people, religious groups and ethnicities), and corruption. He suggested an intensified democratization and free trade, to significantly improve the quality of life for Africans. During his July 2015 trip, Obama also was the first U.S. president ever to visit Kenya, which is the homeland of his father.\\n\\n\\n==== Hiroshima speech ====\\nOn May 27, 2016, Obama became the first sitting American president to visit Hiroshima, Japan, 71 years after the U.S. atomic bombing of Hiroshima that ended World War II. Accompanied by Japanese Prime Minister Shinzō Abe, Obama paid tribute to the victims of the bombing at the Hiroshima Peace Memorial Museum.\\n\\n\\n==== Russia ====\\n\\nAfter Russia\\'s invasion of Crimea in 2014, military intervention in Syria in 2015, and the interference in the 2016 U.S. presidential election, Obama\\'s Russia policy was widely seen as a failure. George Robertson, a former UK defense secretary and NATO secretary-general, said that Obama had \"allowed Putin to jump back on the world stage and test the resolve of the West\", adding that the legacy of this disaster would last.\\n\\n\\n=== Cultural and political image ===\\n\\nObama\\'s family history, upbringing, and Ivy League education differ markedly from those of African-American politicians who launched their careers in the 1960s through participation in the civil rights movement. Expressing puzzlement over questions about whether he is \"black enough\", Obama told an August 2007 meeting of the National Association of Black Journalists that \"we\\'re still locked in this notion that if you appeal to white folks then there must be something wrong.\" Obama acknowledged his youthful image in an October 2007 campaign speech, saying: \"I wouldn\\'t be here if, time and again, the torch had not been passed to a new generation.\"Obama is frequently referred to as an exceptional orator. During his pre-inauguration transition period and continuing into his presidency, Obama delivered a series of weekly Internet video addresses. Former presidential campaign surrogate and Georgetown professor, Michael Eric Dyson, is both critical and sympathetic of President Obama\\'s leadership in race relations, indicating that Obama\\'s speeches and action on racial disparity and justice have been somewhat reactive and reluctant when, especially in the later part of his second term, racial violence demanded immediate presidential action and conversation.\\n\\nAccording to the Gallup Organization, Obama began his presidency with a 68% approval rating before gradually declining for the rest of the year, and eventually bottoming out at 41% in August 2010, a trend similar to Ronald Reagan\\'s and Bill Clinton\\'s first years in office. He experienced a small poll bounce shortly after the death of Osama bin Laden on May 2, 2011. This bounce lasted until around June 2011, when his approval numbers dropped back to where they were previously. His approval ratings rebounded around the same time as his reelection in 2012, with polls showing an average job approval of 52% shortly after his second inauguration. Despite approval ratings dropping to 39% in late-2013 due to the ACA roll-out, they climbed to 50% in January 2015 according to Gallup.Polls showed strong support for Obama in other countries both before and during his presidency. In a February 2009 poll conducted in Western Europe and the U.S. by Harris Interactive for France 24 and the International Herald Tribune, Obama was rated as the most respected world leader, as well as the most powerful. In a similar poll conducted by Harris in May 2009, Obama was rated as the most popular world leader, as well as the one figure most people would pin their hopes on for pulling the world out of the economic downturn.\\n\\nObama won Best Spoken Word Album Grammy Awards for abridged audiobook versions of Dreams from My Father in February 2006 and for The Audacity of Hope in February 2008. His concession speech after the New Hampshire primary was set to music by independent artists as the music video \"Yes We Can\", which was viewed 10 million times on YouTube in its first month and received a Daytime Emmy Award. In December 2008 and in 2012, Time magazine named Obama as its Person of the Year. The 2008 awarding was for his historic candidacy and election, which Time described as \"the steady march of seemingly impossible accomplishments\". On May 25, 2011, Obama became the first President of the United States to address both houses of the UK Parliament in Westminster Hall, London. This was only the fifth occurrence since the start of the 20th century of a head of state being extended this invitation, following Charles de Gaulle in 1960, Nelson Mandela in 1996, Queen Elizabeth II in 2002 and Pope Benedict XVI in 2010.On October 9, 2009, the Norwegian Nobel Committee announced that Obama had won the 2009 Nobel Peace Prize \"for his extraordinary efforts to strengthen international diplomacy and cooperation between peoples\". Obama accepted this award in Oslo, Norway on December 10, 2009, with \"deep gratitude and great humility.\" The award drew a mixture of praise and criticism from world leaders and media figures. Obama\\'s peace prize was called a \"stunning surprise\" by The New York Times. Obama is the fourth U.S. president to be awarded the Nobel Peace Prize and the third to become a Nobel laureate while in office. Obama\\'s Nobel Prize has been viewed skeptically in subsequent years, especially after the director of the Nobel Institute, Geir Lundestad, said Obama\\'s Peace Prize did not have the desired effect.\\n\\n\\n== Post-presidency (2017–present) ==\\n\\nBarack Obama\\'s presidency ended at noon on January 20, 2017, immediately following the inauguration of his Republican successor, Donald Trump. After the inauguration, Obama lifted off on Executive One, circled the White House, and flew to Joint Base Andrews. The family currently rents a house in Kalorama, Washington, D.C.A 2018 survey of historians by the American Political Science Association ranked Obama the 8th-greatest American President. Obama gained 10 spots from the same survey in 2015 from the Brookings Institution that ranked Obama the 18th-greatest American President.On March 2, 2017, the John F. Kennedy Presidential Library and Museum awarded the annual Profile in Courage Award to Obama \"for his enduring commitment to democratic ideals and elevating the standard of political courage.\" In his first public appearance out of office, Obama appeared at a seminar at the University of Chicago on April 24. The seminar was aimed at the engagement with a new generation as well as an appeal for their participation in politics. On May 4, three days ahead of the French presidential election, Obama publicly endorsed Emmanuel Macron: \"He appeals to people\\'s hopes and not their fears, and I enjoyed speaking to Emmanuel recently to hear about his independent movement and his vision for the future of France.\" Macron went on to win the election.\\nWhile in Berlin on May 25, Obama made a joint public appearance with Chancellor Angela Merkel where he stressed inclusion and for leaders to question themselves, Obama having been formally invited to Berlin while still in office as part of an effort to boost Merkel\\'s re-election campaign. Obama traveled to Kensington Palace in England and met with Prince Harry on May 27, 2017; Obama tweeted afterward that the two discussed their foundations and offering condolences in the wake of the Manchester Arena bombing that occurred five days prior.Barack and Michelle Obama signed a deal on May 22 to produce docu-series, documentaries and features for Netflix under the Obama\\'s newly formed production company, Higher Ground Productions. On the deal, Michelle said \"I have always believed in the power of storytelling to inspire us, to make us think differently about the world around us, and to help us open our minds and hearts to others\".After President Trump announced his withdrawal of the United States from the Paris Agreement on June 1, Obama released a statement disagreeing with the choice: \"But even in the absence of American leadership; even as this administration joins a small handful of nations that reject the future; I\\'m confident that our states, cities, and businesses will step up and do even more to lead the way, and help protect for future generations the one planet we\\'ve got.\"\\n\\nAfter Senate Republicans revealed the Better Care Reconciliation Act of 2017, their discussion draft of a health care bill to replace the Affordable Care Act, on June 22, Obama released a Facebook post calling the bill \"a massive transfer of wealth from middle-class and poor families to the richest people in America.\" On September 19, while delivering the keynote address at Goalkeepers, Obama admitted his frustration with Republicans backing \"a bill that will raise costs, reduce coverage, and roll back protections for older Americans and people with pre-existing conditions\".After Attorney General Jeff Sessions announced the termination of the Deferred Action for Childhood Arrivals (DACA) program on September 5, Obama released a Facebook post rebuking the decision. Two days later, he partnered with former presidents Jimmy Carter, George H. W. Bush, Bill Clinton, and George W. Bush to work with One America Appeal to help the victims of Hurricane Harvey and Hurricane Irma in the Gulf Coast and Texas communities.Obama hosted the inaugural summit of the Obama Foundation in Chicago on October 31. Obama intends for the foundation to be the central focus of his post-presidency and part of his ambitions for his subsequent activities following his presidency to be more consequential than his time in office. Obama has also been working on a Presidential memoir, in a reported $65 million deal with Penguin Random House.Obama went on an international trip from November 28 to December 2, 2017, and visited China, India and France. In China, he delivered remarks at the Global Alliance of SMEs Summit in Shanghai and met with Chinese President Xi Jinping in Beijing. He then went to India, where he spoke at the Hindustan Times Leadership Summit before meeting with Indian Prime Minister Narendra Modi over lunch. In addition, he held a town hall for young leaders, organized by the Obama Foundation. He also met with the Dalai Lama while in New Delhi. He ended his five-day trip in France where he met with French President Emmanuel Macron, former President Francois Hollande and Paris Mayor Anne Hidalgo and then spoke at an invitation-only event, touching on climate issues.Obama endorsed Oregon Governor Kate Brown for re-election on October 1, 2018. On October 22, Obama traveled to Las Vegas to speak at a campaign rally to discuss economic growth, campaigning for Nevada Democratic candidates.A package that contained a pipe bomb was sent to Obama\\'s home in Washington, D.C, on October 24, 2018. The package was intercepted by the Secret Service during routine mail screenings. Similar packages were sent to several other Democratic leaders, mostly those who voiced strong objections to the policies of Donald Trump and to CNN. Debbie Wasserman Schultz was addressed as the sender of the package. On October 26, 2018, Cesar Sayoc was arrested and faces five federal charges in Manhattan carrying a combined maximum sentence of 48 years behind bars in relation to the pipe bombs.\\n\\n\\n== Legacy ==\\n\\nObama\\'s most significant legacy is generally considered to be the Patient Protection and Affordable Care Act (PPACA), provisions of which went into effect from 2010 to 2020. Many attempts by Senate Republicans to repeal the PPACA, including a \"skinny repeal\", have thus far failed. Together with the Health Care and Education Reconciliation Act amendment, it represents the U.S. healthcare system\\'s most significant regulatory overhaul and expansion of coverage since the passage of Medicare and Medicaid in 1965.Many commentators credit Obama with averting a threatened depression and pulling the economy back from the Great Recession. According to the U.S. Bureau of Labor Statistics, the Obama administration created 11.3 million jobs from the month after his first inauguration to the end of his term. In 2010, Obama signed into effect the Dodd–Frank Wall Street Reform and Consumer Protection Act. Passed as a response to the financial crisis of 2007–08, it brought the most significant changes to financial regulation in the United States since the regulatory reform that followed the Great Depression under Democratic President Franklin D. Roosevelt.In 2009, Obama signed into law the National Defense Authorization Act for Fiscal Year 2010, which contained in it the Matthew Shepard and James Byrd Jr. Hate Crimes Prevention Act, the first addition to existing federal hate crime law in the United States since Democratic President Bill Clinton signed into law the Church Arson Prevention Act of 1996. The Matthew Shepard and James Byrd Jr. Hate Crimes Prevention Act expanded existing federal hate crime laws in the United States to apply to crimes motivated by a victim\\'s actual or perceived gender, sexual orientation, gender identity, or disability, and dropped the prerequisite that the victim be engaging in a federally protected activity.\\nAs president, Obama advanced LGBT rights. In 2010, he signed the Don\\'t Ask, Don\\'t Tell Repeal Act, which brought an end to \"don\\'t ask, don\\'t tell\" policy in the U.S. armed forces that banned open service from LGB people; the law went into effect the following year. In 2016, his administration brought an end to the ban on transgender people serving openly in the U.S. armed forces. A Gallup poll, taken in the final days of Obama\\'s term, showed that 68% of Americans believed that the U.S. had made progress in the situation for gays and lesbians during Obama\\'s eight years in office.Obama substantially escalated the use of drone strikes against suspected militants and terrorists associated with al-Qaeda and the Taliban. In 2016, the last year of his presidency, the US dropped 26,171 bombs on seven different countries. Obama left about 8,400 US troops in Afghanistan, 5,262 in Iraq, 503 in Syria, 133 in Pakistan, 106 in Somalia, 7 in Yemen, and 2 in Libya at the end of his presidency.According to Pew Research Center and United States Bureau of Justice Statistics, from December 31, 2009 to December 31, 2015, that inmates sentenced in US federal custody declined by 5% under Obama. This is the largest decline in sentenced inmates in US federal custody since Democratic President Jimmy Carter. By contrast, the federal prison population increased significantly under presidents Ronald Reagan, George H. W. Bush, Bill Clinton, and George W. Bush.Obama left office in January 2017 with a 60% approval rating. A 2017 C-SPAN Presidential Historians Survey ranked Obama as the 12th-best US president.\\n\\n\\n=== Presidential library ===\\n\\nThe Barack Obama Presidential Center is Obama\\'s planned presidential library. It will be hosted by the University of Chicago and located in Jackson Park on the South Side of Chicago.\\n\\n\\n== Bibliography ==\\nDreams from My Father, 1995\\nThe Audacity of Hope, 2006\\nOf Thee I Sing, 2010\\n\\n\\n=== Audiobooks ===\\n2006: The Audacity of Hope: Thoughts on Reclaiming the American Dream (read by the author), Random House Audio, ISBN 978-0739366417\\n\\n\\n== See also ==\\n\\n\\n=== Politics ===\\nSocial policy of Barack Obama\\nDREAM Act\\nImmigration Reform and Control Act of 1986\\nList of international presidential trips made by Barack Obama\\nMiddle Class Tax Relief and Job Creation Act of 2012\\nFraud Enforcement and Recovery Act of 2009\\nNational Broadband Plan (United States)\\nOffice of Energy Efficiency and Renewable Energy\\nSPEECH Act\\nStay with It\\nWhite House Office of Energy and Climate Change Policy\\n\\n\\n=== Other ===\\nSpeeches of Barack Obama\\nRoberts Court\\n\\n\\n=== Lists ===\\nAssassination threats against Barack Obama\\nList of people pardoned by Barack Obama\\nFederal political scandals, 2009–17\\nList of Barack Obama presidential campaign endorsements, 2008\\nList of Barack Obama presidential campaign endorsements, 2012\\nList of African-American United States Senators\\nList of things named after Barack Obama\\n\\n\\n== Notes and references ==\\n\\n\\n=== Notes ===\\n\\n\\n=== References ===\\n\\n\\n== Further reading ==\\n\\n\\n== External links ==\\n\\n\\n=== Official ===\\nOfficial website of The Office of Barack and Michelle Obama\\nOfficial website of The Obama Foundation\\nOfficial website of the Barack Obama Presidential Library\\nOfficial website of Organizing for Action\\nWhite House biography\\n\\n\\n=== Other ===\\nColumn archive at The Huffington Post\\nBarack Obama at Encyclopædia Britannica\\nObama B. United States Health Care Reform: Progress to Date and Next Steps. JAMA. Published online July 11, 2016. doi:10.1001/jama.2016.9797.\\nTeague Beckwith, Ryan (March 23, 2017). \"Read Barack Obama\\'s Statement on the Anniversary of Obamacare\". Time magazine. Archived from the original on March 31, 2017. Retrieved March 31, 2017. See also: Taylor, Jessica (March 23, 2017). \"Obama: \\'America Is Stronger Because Of The Affordable Care Act\\'\". National Public Radio. Archived from the original on March 31, 2017. Retrieved March 31, 2017.\\nObama B. \"The President\\'s Role in Advancing Criminal Justice Reform\". Harvard Law Review. Published January 5, 2017.\\nBarack Obama at Curlie\\n\\nUnited States Congress. \"Barack Obama (id: O000167)\". Biographical Directory of the United States Congress.\\nAppearances on C-SPAN\\nBarack Obama articles in the archive of the Chicago Tribune\\nCollected news and commentary at the Tampa Bay Times\\'s PolitiFact.com\\nCollected news and commentary at The Washington Post\\'s Fact Checker blog\\n\"Barack Obama is officially one of the most consequential presidents in American history\" by Vox author Dylan Matthews on March 24, 2017. Archived from the original on March 24, 2017. Retrieved April 2, 2017. The article describes the successes and failures of Barack Obama\\'s domestic and foreign policy as well as provides articles for further reading in this context.\\nMaking Obama. Making. 2018. WBEZ. \"Former President Barack Obama—along with key advisers, mentors, and rivals—tells the story of his climb from Chicago to the national stage.\"\\nWorks by Barack Obama at Project Gutenberg\\nWorks by or about Barack Obama at Internet Archive\\nWorks by Barack Obama at LibriVox (public domain audiobooks) \\nBarack Obama on IMDb'"
      ]
     },
     "execution_count": 6,
     "metadata": {},
     "output_type": "execute_result"
    }
   ],
   "source": [
    "import wikipedia\n",
    "# Search for a keyword\n",
    "wiki_obj = wikipedia.page(\"Barack Obama\")\n",
    "# Get the content of Wikipedia \n",
    "wiki_con = wiki_obj.content\n",
    "wiki_con"
   ]
  },
  {
   "cell_type": "markdown",
   "metadata": {},
   "source": [
    "<b>Note</b>: You can also use the <b style=\"color:red\">url</b> to get the link for the wikipedia page. "
   ]
  },
  {
   "cell_type": "code",
   "execution_count": 7,
   "metadata": {},
   "outputs": [
    {
     "data": {
      "text/plain": [
       "'https://en.wikipedia.org/wiki/Barack_Obama'"
      ]
     },
     "execution_count": 7,
     "metadata": {},
     "output_type": "execute_result"
    }
   ],
   "source": [
    "wiki_obj.url"
   ]
  },
  {
   "cell_type": "markdown",
   "metadata": {},
   "source": [
    "<b>Example:</b> Collect wikipedia info for more than one person."
   ]
  },
  {
   "cell_type": "code",
   "execution_count": 8,
   "metadata": {},
   "outputs": [
    {
     "data": {
      "text/html": [
       "<div>\n",
       "<style scoped>\n",
       "    .dataframe tbody tr th:only-of-type {\n",
       "        vertical-align: middle;\n",
       "    }\n",
       "\n",
       "    .dataframe tbody tr th {\n",
       "        vertical-align: top;\n",
       "    }\n",
       "\n",
       "    .dataframe thead th {\n",
       "        text-align: right;\n",
       "    }\n",
       "</style>\n",
       "<table border=\"1\" class=\"dataframe\">\n",
       "  <thead>\n",
       "    <tr style=\"text-align: right;\">\n",
       "      <th></th>\n",
       "      <th>name</th>\n",
       "      <th>content</th>\n",
       "    </tr>\n",
       "  </thead>\n",
       "  <tbody>\n",
       "    <tr>\n",
       "      <th>0</th>\n",
       "      <td>Barack Obama</td>\n",
       "      <td>Barack Hussein Obama II ( (listen); born Augus...</td>\n",
       "    </tr>\n",
       "    <tr>\n",
       "      <th>1</th>\n",
       "      <td>Michele Obama</td>\n",
       "      <td>Michelle LaVaughn Robinson Obama (born January...</td>\n",
       "    </tr>\n",
       "    <tr>\n",
       "      <th>2</th>\n",
       "      <td>George w Bush</td>\n",
       "      <td>George Walker Bush (born July 6, 1946) is an A...</td>\n",
       "    </tr>\n",
       "    <tr>\n",
       "      <th>3</th>\n",
       "      <td>Laura Bush</td>\n",
       "      <td>Laura Lane Welch Bush (born November 4, 1946) ...</td>\n",
       "    </tr>\n",
       "  </tbody>\n",
       "</table>\n",
       "</div>"
      ],
      "text/plain": [
       "            name                                            content\n",
       "0   Barack Obama  Barack Hussein Obama II ( (listen); born Augus...\n",
       "1  Michele Obama  Michelle LaVaughn Robinson Obama (born January...\n",
       "2  George w Bush  George Walker Bush (born July 6, 1946) is an A...\n",
       "3     Laura Bush  Laura Lane Welch Bush (born November 4, 1946) ..."
      ]
     },
     "execution_count": 8,
     "metadata": {},
     "output_type": "execute_result"
    }
   ],
   "source": [
    "names = ['Barack Obama', 'Michele Obama', 'George w Bush', 'Laura Bush']\n",
    "contents = [wikipedia.page(name).content for name in names]\n",
    "df = pd.DataFrame({'name':names, 'content':contents})\n",
    "df"
   ]
  },
  {
   "cell_type": "markdown",
   "metadata": {},
   "source": [
    "Now, let's visualize the content."
   ]
  },
  {
   "cell_type": "code",
   "execution_count": 11,
   "metadata": {},
   "outputs": [
    {
     "data": {
      "image/png": "[encoded data removed]",
      "text/plain": [
       "<Figure size 576x576 with 1 Axes>"
      ]
     },
     "metadata": {
      "needs_background": "light"
     },
     "output_type": "display_data"
    }
   ],
   "source": [
    "from yellowbrick.text.freqdist import FreqDistVisualizer \n",
    "from sklearn.feature_extraction.text import CountVectorizer\n",
    "import matplotlib as mpl\n",
    "import matplotlib.pyplot as plt\n",
    "%matplotlib inline\n",
    "\n",
    "# Find the Document Term Frequency Matrix \n",
    "vect = CountVectorizer(stop_words='english')\n",
    "X = vect.fit_transform(df.content)\n",
    "\n",
    "# Get all features (tokens)\n",
    "features = vect.get_feature_names()\n",
    "\n",
    "# Use yellowbrick package for visualization of top 30 tokens\n",
    "fig, ax = plt.subplots(figsize=(8, 8))\n",
    "visualizer = FreqDistVisualizer(features=features, n=30)\n",
    "visualizer.fit(X)\n",
    "visualizer.poof()"
   ]
  },
  {
   "cell_type": "markdown",
   "metadata": {},
   "source": [
    "## 2. Topic Modeling and Document Clustering"
   ]
  },
  {
   "cell_type": "markdown",
   "metadata": {},
   "source": [
    "Topic modeling is one of the popular techniques in text analysis. This task is similar to the process of clustering in numerical data analysis. Often, when people talk about topic modeling, they refer to one particular decomposition method called <b>Latent Dirichlet Allocation (LDA)</b>\n",
    "\n",
    "In LDA, each document may be viewed as a mixture of various topics where each document is considered to have a set of topics that are assigned to it via LDA. This is identical to probabilistic latent semantic analysis (pLSA), except that in LDA the topic distribution is assumed to have a sparse Dirichlet prior. The sparse Dirichlet priors encode the intuition that documents cover only a small set of topics and that topics use only a small set of words frequently. In practice, this results in a better disambiguation of words and a more precise assignment of documents to topics. LDA is a generalization of the pLSA model, which is equivalent to LDA under a uniform Dirichlet prior distribution. (<b>Source:Wikipedia</b>)"
   ]
  },
  {
   "cell_type": "markdown",
   "metadata": {},
   "source": [
    "Let's use wine-reviews dataset again."
   ]
  },
  {
   "cell_type": "code",
   "execution_count": 14,
   "metadata": {},
   "outputs": [
    {
     "data": {
      "text/html": [
       "<div>\n",
       "<style scoped>\n",
       "    .dataframe tbody tr th:only-of-type {\n",
       "        vertical-align: middle;\n",
       "    }\n",
       "\n",
       "    .dataframe tbody tr th {\n",
       "        vertical-align: top;\n",
       "    }\n",
       "\n",
       "    .dataframe thead th {\n",
       "        text-align: right;\n",
       "    }\n",
       "</style>\n",
       "<table border=\"1\" class=\"dataframe\">\n",
       "  <thead>\n",
       "    <tr style=\"text-align: right;\">\n",
       "      <th></th>\n",
       "      <th>country</th>\n",
       "      <th>description</th>\n",
       "      <th>designation</th>\n",
       "      <th>points</th>\n",
       "      <th>price</th>\n",
       "      <th>province</th>\n",
       "      <th>region_1</th>\n",
       "      <th>region_2</th>\n",
       "      <th>taster_name</th>\n",
       "      <th>taster_twitter_handle</th>\n",
       "      <th>title</th>\n",
       "      <th>variety</th>\n",
       "      <th>winery</th>\n",
       "    </tr>\n",
       "  </thead>\n",
       "  <tbody>\n",
       "    <tr>\n",
       "      <th>0</th>\n",
       "      <td>Italy</td>\n",
       "      <td>Aromas include tropical fruit, broom, brimston...</td>\n",
       "      <td>Vulkà Bianco</td>\n",
       "      <td>87</td>\n",
       "      <td>NaN</td>\n",
       "      <td>Sicily &amp; Sardinia</td>\n",
       "      <td>Etna</td>\n",
       "      <td>NaN</td>\n",
       "      <td>Kerin O’Keefe</td>\n",
       "      <td>@kerinokeefe</td>\n",
       "      <td>Nicosia 2013 Vulkà Bianco  (Etna)</td>\n",
       "      <td>White Blend</td>\n",
       "      <td>Nicosia</td>\n",
       "    </tr>\n",
       "    <tr>\n",
       "      <th>1</th>\n",
       "      <td>Portugal</td>\n",
       "      <td>This is ripe and fruity, a wine that is smooth...</td>\n",
       "      <td>Avidagos</td>\n",
       "      <td>87</td>\n",
       "      <td>15.0</td>\n",
       "      <td>Douro</td>\n",
       "      <td>NaN</td>\n",
       "      <td>NaN</td>\n",
       "      <td>Roger Voss</td>\n",
       "      <td>@vossroger</td>\n",
       "      <td>Quinta dos Avidagos 2011 Avidagos Red (Douro)</td>\n",
       "      <td>Portuguese Red</td>\n",
       "      <td>Quinta dos Avidagos</td>\n",
       "    </tr>\n",
       "    <tr>\n",
       "      <th>2</th>\n",
       "      <td>US</td>\n",
       "      <td>Tart and snappy, the flavors of lime flesh and...</td>\n",
       "      <td>NaN</td>\n",
       "      <td>87</td>\n",
       "      <td>14.0</td>\n",
       "      <td>Oregon</td>\n",
       "      <td>Willamette Valley</td>\n",
       "      <td>Willamette Valley</td>\n",
       "      <td>Paul Gregutt</td>\n",
       "      <td>@paulgwine</td>\n",
       "      <td>Rainstorm 2013 Pinot Gris (Willamette Valley)</td>\n",
       "      <td>Pinot Gris</td>\n",
       "      <td>Rainstorm</td>\n",
       "    </tr>\n",
       "    <tr>\n",
       "      <th>3</th>\n",
       "      <td>US</td>\n",
       "      <td>Pineapple rind, lemon pith and orange blossom ...</td>\n",
       "      <td>Reserve Late Harvest</td>\n",
       "      <td>87</td>\n",
       "      <td>13.0</td>\n",
       "      <td>Michigan</td>\n",
       "      <td>Lake Michigan Shore</td>\n",
       "      <td>NaN</td>\n",
       "      <td>Alexander Peartree</td>\n",
       "      <td>NaN</td>\n",
       "      <td>St. Julian 2013 Reserve Late Harvest Riesling ...</td>\n",
       "      <td>Riesling</td>\n",
       "      <td>St. Julian</td>\n",
       "    </tr>\n",
       "    <tr>\n",
       "      <th>4</th>\n",
       "      <td>US</td>\n",
       "      <td>Much like the regular bottling from 2012, this...</td>\n",
       "      <td>Vintner's Reserve Wild Child Block</td>\n",
       "      <td>87</td>\n",
       "      <td>65.0</td>\n",
       "      <td>Oregon</td>\n",
       "      <td>Willamette Valley</td>\n",
       "      <td>Willamette Valley</td>\n",
       "      <td>Paul Gregutt</td>\n",
       "      <td>@paulgwine</td>\n",
       "      <td>Sweet Cheeks 2012 Vintner's Reserve Wild Child...</td>\n",
       "      <td>Pinot Noir</td>\n",
       "      <td>Sweet Cheeks</td>\n",
       "    </tr>\n",
       "  </tbody>\n",
       "</table>\n",
       "</div>"
      ],
      "text/plain": [
       "    country                                        description  \\\n",
       "0     Italy  Aromas include tropical fruit, broom, brimston...   \n",
       "1  Portugal  This is ripe and fruity, a wine that is smooth...   \n",
       "2        US  Tart and snappy, the flavors of lime flesh and...   \n",
       "3        US  Pineapple rind, lemon pith and orange blossom ...   \n",
       "4        US  Much like the regular bottling from 2012, this...   \n",
       "\n",
       "                          designation  points  price           province  \\\n",
       "0                        Vulkà Bianco      87    NaN  Sicily & Sardinia   \n",
       "1                            Avidagos      87   15.0              Douro   \n",
       "2                                 NaN      87   14.0             Oregon   \n",
       "3                Reserve Late Harvest      87   13.0           Michigan   \n",
       "4  Vintner's Reserve Wild Child Block      87   65.0             Oregon   \n",
       "\n",
       "              region_1           region_2         taster_name  \\\n",
       "0                 Etna                NaN       Kerin O’Keefe   \n",
       "1                  NaN                NaN          Roger Voss   \n",
       "2    Willamette Valley  Willamette Valley        Paul Gregutt   \n",
       "3  Lake Michigan Shore                NaN  Alexander Peartree   \n",
       "4    Willamette Valley  Willamette Valley        Paul Gregutt   \n",
       "\n",
       "  taster_twitter_handle                                              title  \\\n",
       "0          @kerinokeefe                  Nicosia 2013 Vulkà Bianco  (Etna)   \n",
       "1            @vossroger      Quinta dos Avidagos 2011 Avidagos Red (Douro)   \n",
       "2           @paulgwine       Rainstorm 2013 Pinot Gris (Willamette Valley)   \n",
       "3                   NaN  St. Julian 2013 Reserve Late Harvest Riesling ...   \n",
       "4           @paulgwine   Sweet Cheeks 2012 Vintner's Reserve Wild Child...   \n",
       "\n",
       "          variety               winery  \n",
       "0     White Blend              Nicosia  \n",
       "1  Portuguese Red  Quinta dos Avidagos  \n",
       "2      Pinot Gris            Rainstorm  \n",
       "3        Riesling           St. Julian  \n",
       "4      Pinot Noir         Sweet Cheeks  "
      ]
     },
     "execution_count": 14,
     "metadata": {},
     "output_type": "execute_result"
    }
   ],
   "source": [
    "from sklearn.feature_extraction.text import CountVectorizer \n",
    "df = pd.read_csv(\"winemag-data-130k-v2.csv\",index_col=0, nrows=20000)\n",
    "df.head()"
   ]
  },
  {
   "cell_type": "markdown",
   "metadata": {},
   "source": [
    "<b>Note:</b> Topic mining process can take large amount of time. In order to make the process faster, you can use the following attributes in CountVectorizer to reduce the sime of Document Term Frequency Matrix:\n",
    "<ul>\n",
    "    <li><b>max_features:</b> Build a vocabulary that only consider the top max_features ordered by term frequency across the corpus</li>\n",
    "    <li><b>max_df:</b> When building the vocabulary ignore terms that have a document frequency strictly higher than the given threshold.</li>"
   ]
  },
  {
   "cell_type": "code",
   "execution_count": 15,
   "metadata": {},
   "outputs": [],
   "source": [
    "# Let's create the Document Term Frequency Matrix\n",
    "vect = CountVectorizer(max_features=10000, max_df=.10, \n",
    "                       stop_words=\"english\")\n",
    "X = vect.fit_transform(df.description)"
   ]
  },
  {
   "cell_type": "markdown",
   "metadata": {},
   "source": [
    "<b>Note:</b> You can use <b style=\"color:blue\">LatentDirichletAllocation( )</b> function for LDA topic mining."
   ]
  },
  {
   "cell_type": "code",
   "execution_count": 16,
   "metadata": {},
   "outputs": [],
   "source": [
    "from sklearn.decomposition import LatentDirichletAllocation\n",
    "lda = LatentDirichletAllocation(n_components=5, learning_method=\"batch\",\n",
    "                                max_iter=25, random_state=0) \n",
    "document_topics = lda.fit_transform(X)"
   ]
  },
  {
   "cell_type": "markdown",
   "metadata": {},
   "source": [
    "<b>Note:</b> document_topics variable shows the probability that each document belongs to one of the captured topics. The shape of document_topics is (n_documents, n_topic)"
   ]
  },
  {
   "cell_type": "code",
   "execution_count": 17,
   "metadata": {},
   "outputs": [
    {
     "data": {
      "text/plain": [
       "(20000, 5)"
      ]
     },
     "execution_count": 17,
     "metadata": {},
     "output_type": "execute_result"
    }
   ],
   "source": [
    "document_topics.shape"
   ]
  },
  {
   "cell_type": "markdown",
   "metadata": {},
   "source": [
    "<b>Note:</b> You can use <b style=\"color:red\">components_</b> attribute to get weights of each token in different captured topics. The output of components_ attribute is a numpy array with a shape of (n_topics, n_tokens)."
   ]
  },
  {
   "cell_type": "code",
   "execution_count": 18,
   "metadata": {},
   "outputs": [
    {
     "data": {
      "text/plain": [
       "array([[ 0.20102855,  0.20000183,  0.20000223, ...,  0.20014892,\n",
       "         0.20524711,  2.19760923],\n",
       "       [ 0.20159495,  0.20152087,  0.20263409, ...,  0.20000895,\n",
       "         0.20989675,  1.32912636],\n",
       "       [47.19442806,  3.19742668,  2.19459801, ...,  0.20055982,\n",
       "         0.21432234,  0.20120854],\n",
       "       [ 0.2006735 ,  0.20039198,  0.20000258, ...,  0.2000176 ,\n",
       "         0.20000668,  2.06870778],\n",
       "       [ 0.20227493,  0.20065863,  0.20276309, ..., 16.19926471,\n",
       "         1.17052712,  0.20334809]])"
      ]
     },
     "execution_count": 18,
     "metadata": {},
     "output_type": "execute_result"
    }
   ],
   "source": [
    "# let's see the result\n",
    "lda.components_"
   ]
  },
  {
   "cell_type": "markdown",
   "metadata": {},
   "source": [
    "Let's see the terms(tokens) with highest weight in each topic"
   ]
  },
  {
   "cell_type": "code",
   "execution_count": 19,
   "metadata": {},
   "outputs": [
    {
     "data": {
      "text/plain": [
       "{0: ['cabernet',\n",
       "  'blend',\n",
       "  'blackberry',\n",
       "  'chocolate',\n",
       "  'herbal',\n",
       "  'dark',\n",
       "  'sauvignon',\n",
       "  'merlot'],\n",
       " 1: ['apple', 'citrus', 'lemon', 'peach', 'white', 'pear', 'green', 'crisp'],\n",
       " 2: ['pinot',\n",
       "  'vineyard',\n",
       "  'years',\n",
       "  'bodied',\n",
       "  'cherries',\n",
       "  'texture',\n",
       "  'good',\n",
       "  'shows'],\n",
       " 3: ['offers',\n",
       "  'alongside',\n",
       "  'dried',\n",
       "  'bright',\n",
       "  'pepper',\n",
       "  'opens',\n",
       "  'raspberry',\n",
       "  'delivers'],\n",
       " 4: ['character',\n",
       "  'fruity',\n",
       "  'texture',\n",
       "  'wood',\n",
       "  'ready',\n",
       "  'crisp',\n",
       "  'structure',\n",
       "  'aging']}"
      ]
     },
     "execution_count": 19,
     "metadata": {},
     "output_type": "execute_result"
    }
   ],
   "source": [
    "# Set n to your desired number of tokens \n",
    "n = 8\n",
    "# Get features (tokens) from CountVectorizer\n",
    "feature_names = np.array(vect.get_feature_names())\n",
    "# Find top n tokens\n",
    "topics = dict()\n",
    "for idx, component in enumerate(lda.components_): \n",
    "    top_n_indices = component.argsort()[:-(n + 1): -1] \n",
    "    topic_tokens = [feature_names[i] for i in top_n_indices] \n",
    "    topics[idx] = topic_tokens\n",
    "\n",
    "topics"
   ]
  },
  {
   "cell_type": "markdown",
   "metadata": {},
   "source": [
    "We can also check and see the documents with high probability assigned to each topic"
   ]
  },
  {
   "cell_type": "code",
   "execution_count": 20,
   "metadata": {},
   "outputs": [
    {
     "name": "stdout",
     "output_type": "stream",
     "text": [
      "A blend of 52% Cabernet Sauvignon, 22% Malbec, 19% Merlot and 7% Cabernet Franc, spicy aromas of leather, black pepper, savory herbs, licorice and Mexican chocolate lead the nose. It's grounded by a solid fruit core of blackberry, boysenberry and mulberry fruit, lending a supporting spine to the toasted spice and earthy accents. Well balanced, with velvety tannins and a long, evolving finish, drink this lush, velvety red from 2018–2024. \n",
      "------------\n",
      "\n",
      "Winemaker: Gary Jordan. A blend of 60% Cabernet Sauvignon, 30% Merlot and 10% Cabernet Franc, this leads with slightly liquorous aromas of crème de cassis, black licorice, mint oil and cigar box. The palate is smooth, yet boldly structured, with plush tannins and ample acidity to lend support of the lush dark-fruit flavors. Leather and peppery blackberry notes linger on the close. Drink now–2022. \n",
      "------------\n",
      "\n",
      "The signature bottling from this winery, this very dark blend of 57% Cabernet Sauvignon, 17% Petit Verdot, 13% Malbec, 8% Merlot and 5% Cabernet Franc offers deep black plum and black currant as well as cigar box, smoked beef and caramel on the nose. A blackberry-purée flavor leads the very fruit-driven palate, which is bolstered by black pepper, violet, shaved dark chocolate and espresso bean. \n",
      "------------\n",
      "\n",
      "This is a highly particular, funky blend of 85% Malbec and 15% Cabernet. It opens with savory stewy earthy aromas of berry fruits and prune. Due to the 15.5% abv, this feels heavy and clampy, with rooty flavors of baked berry fruits, cola, minty herbs and carob. An oaky spicy toasty finish with heat is the closing act on this fully stuffed Salta blend. \n",
      "------------\n",
      "\n",
      "This wine is a blend of Cabernet Sauvignon (67%), Merlot (26%) and Cabernet Franc. It's aromatically expressive, with notes of raspberry, cigar box, mint, café au lait, blackberry, dried herb, anise and wet gravel. The palate displays a sense of elegance and refinement that captures the attention, with red-fruit flavors lingering on the long (slightly warm) finish. \n",
      "------------\n",
      "\n"
     ]
    }
   ],
   "source": [
    "topic_0 = np.argsort(document_topics[:, 0])[::-1]\n",
    "# print the five documents where the topic is most important \n",
    "for index in topic_0[:5]:\n",
    "    # pshow first two sentences\n",
    "    print(df.description[index],\"\\n------------\\n\")"
   ]
  },
  {
   "cell_type": "markdown",
   "metadata": {},
   "source": [
    "<b>Note:</b> It is useful to see which topic is more representative in our dataset. In order to do that you can find the some of the proababilities of documents in each topic."
   ]
  },
  {
   "cell_type": "code",
   "execution_count": 22,
   "metadata": {},
   "outputs": [],
   "source": [
    "# Let's increase the number of topics to 20 \n",
    "n_topics = 20\n",
    "lda = LatentDirichletAllocation(n_components=n_topics, learning_method=\"batch\",\n",
    "                                max_iter=25, random_state=0) \n",
    "document_topics = lda.fit_transform(X)\n",
    "\n",
    "# Sort the tokens and get top 2 tokens in each topic\n",
    "sorting = np.argsort(lda.components_, axis=1)[:, ::-1]\n",
    "feature_names = np.array(vect.get_feature_names())\n",
    "topic_names = [\"{:>2} \".format(i) + \" \".join(words) \n",
    "               for i, words in enumerate(feature_names[sorting[:, :2]])] "
   ]
  },
  {
   "cell_type": "code",
   "execution_count": 23,
   "metadata": {},
   "outputs": [
    {
     "data": {
      "image/png": "[encoded data removed]",
      "text/plain": [
       "<Figure size 720x720 with 2 Axes>"
      ]
     },
     "metadata": {
      "needs_background": "light"
     },
     "output_type": "display_data"
    }
   ],
   "source": [
    "# Let's visualize the result\n",
    "fig, ax = plt.subplots(1, 2, figsize=(10, 10))\n",
    "# two column bar chart:\n",
    "for col in [0, 1]: \n",
    "    start = col*int(n_topics/2)\n",
    "    end=(col+1)*int(n_topics/2)\n",
    "    ax[col].barh(np.arange(int(n_topics/2)), np.sum(document_topics, axis=0)[start:end]) \n",
    "    ax[col].set_yticks(np.arange(int(n_topics/2))) \n",
    "    ax[col].set_yticklabels(topic_names[start:end], ha=\"left\", va=\"top\") \n",
    "    ax[col].invert_yaxis()\n",
    "    ax[col].set_xlim(0, 2000)\n",
    "    yax = ax[col].get_yaxis()\n",
    "    yax.set_tick_params(pad=130)\n",
    "    plt.tight_layout()"
   ]
  },
  {
   "cell_type": "markdown",
   "metadata": {},
   "source": [
    "## 3. Regular Expression"
   ]
  },
  {
   "cell_type": "markdown",
   "metadata": {},
   "source": [
    "Regular Expression allows us to extract desired pattern from text. In order to use Regular Expression syntax you need to become familiar with some symbols."
   ]
  },
  {
   "cell_type": "markdown",
   "metadata": {},
   "source": [
    "<ul>\n",
    "    <li><b style=\"color:red\">. </b>: Wildcard, matches a single character</li>\n",
    "    <li><b style=\"color:red\">^ </b>: Indicates start of a string</li>\n",
    "    <li><b style=\"color:red\"><span>$</span> </b>: Indicates end of a string</li>\n",
    "    <li><b style=\"color:red\">[ ]</b>: Matches one of the set of characters within [ ]</li>\n",
    "        <ul>\n",
    "            <li>[a-z]: Matches one of the characters of a,b,c,...,z</li>\n",
    "            <li>[^abc]: Matches a character that is not a, b, or c</li>\n",
    "        </ul>\n",
    "    <li><b style=\"color:red\">a|b</b>: Matches either a or b, where a and b are string</li>\n",
    "    <li><b style=\"color:red\">\\</b> : Escapes characters for special characters (\\t,\\n,\\b) </li>\n",
    "    <li><b style=\"color:red\">\\b</b> : Matches word boundary </li>\n",
    "    <li><b style=\"color:red\">\\d</b> : Matches any digit, equivalent to [0-9]  </li>\n",
    "    <li><b style=\"color:red\">\\D</b> : Matches any non-digit, equivalent to [^0-9]  </li>\n",
    "    <li><b style=\"color:red\">\\s</b> : Matches any whitespace character, equivalent to [ \\t\\n\\r\\f\\v]  </li>\n",
    "    <li><b style=\"color:red\">\\S</b> : Matches any non-whitespace character, equivalent to [^ \\t\\n\\r\\f\\v]  </li>\n",
    "    <li><b style=\"color:red\">\\w</b> : Matches any alphanumeric character, equivalent to [a-zA-Z0-9_]  </li>\n",
    "    <li><b style=\"color:red\">\\w</b> : Matches any non-alphanumeric character, equivalent to [^a-zA-Z0-9_]  </li>\n",
    "    <li><b style=\"color:red\">*</b> : Matches zero or more occurrences</li>\n",
    "    <li><b style=\"color:red\">+</b> : Matches one or more occurrences</li>\n",
    "    <li><b style=\"color:red\">?</b> : Matches zero or one occurrences</li>\n",
    "    <li><b style=\"color:red\">{n}</b> : Matches exactly n occurrences</li>\n",
    "    <li><b style=\"color:red\">{n,}</b> : Matches at least n occurrences</li>\n",
    "    <li><b style=\"color:red\">{,n}</b> : Matches at most n occurrences</li>\n",
    "    <li><b style=\"color:red\">{m,n}</b> : Matches at least m occurrences and at most n occurrences</li>\n",
    "</ul>"
   ]
  },
  {
   "cell_type": "code",
   "execution_count": 24,
   "metadata": {},
   "outputs": [],
   "source": [
    "import re"
   ]
  },
  {
   "cell_type": "code",
   "execution_count": 25,
   "metadata": {},
   "outputs": [],
   "source": [
    "text = \"Hey @MjuL let's have a quick talk with @jZZ. My email is abcd@gmail.com. #talk #regular #expression\""
   ]
  },
  {
   "cell_type": "markdown",
   "metadata": {},
   "source": [
    "<b>Example:</b> Find words with # in the above sentence "
   ]
  },
  {
   "cell_type": "code",
   "execution_count": 26,
   "metadata": {},
   "outputs": [
    {
     "data": {
      "text/plain": [
       "['Hey',\n",
       " '@MjuL',\n",
       " \"let's\",\n",
       " 'have',\n",
       " 'a',\n",
       " 'quick',\n",
       " 'talk',\n",
       " 'with',\n",
       " '@jZZ.',\n",
       " 'My',\n",
       " 'email',\n",
       " 'is',\n",
       " 'abcd@gmail.com.',\n",
       " '#talk',\n",
       " '#regular',\n",
       " '#expression']"
      ]
     },
     "execution_count": 26,
     "metadata": {},
     "output_type": "execute_result"
    }
   ],
   "source": [
    "my_text_list = text.split(' ')\n",
    "my_text_list"
   ]
  },
  {
   "cell_type": "code",
   "execution_count": 27,
   "metadata": {},
   "outputs": [
    {
     "data": {
      "text/plain": [
       "['#talk', '#regular', '#expression']"
      ]
     },
     "execution_count": 27,
     "metadata": {},
     "output_type": "execute_result"
    }
   ],
   "source": [
    "[word for word in my_text_list if re.search('#',word)]"
   ]
  },
  {
   "cell_type": "markdown",
   "metadata": {},
   "source": [
    "<b>Example</b>: Find people how mentioned by @ in the above sentence."
   ]
  },
  {
   "cell_type": "code",
   "execution_count": 57,
   "metadata": {},
   "outputs": [
    {
     "data": {
      "text/plain": [
       "['@MjuL', '@jZZ.']"
      ]
     },
     "execution_count": 57,
     "metadata": {},
     "output_type": "execute_result"
    }
   ],
   "source": [
    "# Write your code here\n",
    "[word for word in my_text_list if re.search('^@\\w',word)]"
   ]
  },
  {
   "cell_type": "markdown",
   "metadata": {},
   "source": [
    "<b>Example</b>: Find email address @ in the above sentence."
   ]
  },
  {
   "cell_type": "code",
   "execution_count": 77,
   "metadata": {},
   "outputs": [
    {
     "data": {
      "text/plain": [
       "['abcd@gmail.com.']"
      ]
     },
     "execution_count": 77,
     "metadata": {},
     "output_type": "execute_result"
    }
   ],
   "source": [
    "# Write your code here\n",
    "[word for word in my_text_list if re.findall(r'\\w@',word)]  # or if re.search('\\w@')"
   ]
  },
  {
   "cell_type": "markdown",
   "metadata": {},
   "source": [
    "<b>Note:</b> You can also use <b style=\"color:blue\">findall( )</b> function to find your desired words."
   ]
  },
  {
   "cell_type": "code",
   "execution_count": 70,
   "metadata": {},
   "outputs": [
    {
     "data": {
      "text/plain": [
       "['#talk', '#regular', '#expression']"
      ]
     },
     "execution_count": 70,
     "metadata": {},
     "output_type": "execute_result"
    }
   ],
   "source": [
    "re.findall(r'#\\w*',text)"
   ]
  },
  {
   "cell_type": "markdown",
   "metadata": {},
   "source": [
    "<b>Question</b>: Why we cannot use the same structure as above to find #?"
   ]
  },
  {
   "cell_type": "markdown",
   "metadata": {},
   "source": [
    "<b>Example:</b> Let's apply what we have learnt on a Tweets_Brewery dataset. This dataset contains 6-month tweets of Brewery companies in twitter."
   ]
  },
  {
   "cell_type": "code",
   "execution_count": 71,
   "metadata": {},
   "outputs": [
    {
     "data": {
      "text/html": [
       "<div>\n",
       "<style scoped>\n",
       "    .dataframe tbody tr th:only-of-type {\n",
       "        vertical-align: middle;\n",
       "    }\n",
       "\n",
       "    .dataframe tbody tr th {\n",
       "        vertical-align: top;\n",
       "    }\n",
       "\n",
       "    .dataframe thead th {\n",
       "        text-align: right;\n",
       "    }\n",
       "</style>\n",
       "<table border=\"1\" class=\"dataframe\">\n",
       "  <thead>\n",
       "    <tr style=\"text-align: right;\">\n",
       "      <th></th>\n",
       "      <th>text</th>\n",
       "      <th>u_id</th>\n",
       "    </tr>\n",
       "  </thead>\n",
       "  <tbody>\n",
       "    <tr>\n",
       "      <th>0</th>\n",
       "      <td>Have you tried BA mobile yet? http://t.co/QcrU...</td>\n",
       "      <td>15205798.0</td>\n",
       "    </tr>\n",
       "    <tr>\n",
       "      <th>1</th>\n",
       "      <td>For the latest BeerAdvocate updates: http://t....</td>\n",
       "      <td>15205798.0</td>\n",
       "    </tr>\n",
       "    <tr>\n",
       "      <th>2</th>\n",
       "      <td>\"MillerCoors Seeks Spirits Fans With Bourbon-L...</td>\n",
       "      <td>15205798.0</td>\n",
       "    </tr>\n",
       "    <tr>\n",
       "      <th>3</th>\n",
       "      <td>.@CambridgeBrewer Barleywine Fest is this Thur...</td>\n",
       "      <td>15205798.0</td>\n",
       "    </tr>\n",
       "    <tr>\n",
       "      <th>4</th>\n",
       "      <td>@roblutter @beernerds Ah. Theres 2 BB threads....</td>\n",
       "      <td>15205798.0</td>\n",
       "    </tr>\n",
       "  </tbody>\n",
       "</table>\n",
       "</div>"
      ],
      "text/plain": [
       "                                                text        u_id\n",
       "0  Have you tried BA mobile yet? http://t.co/QcrU...  15205798.0\n",
       "1  For the latest BeerAdvocate updates: http://t....  15205798.0\n",
       "2  \"MillerCoors Seeks Spirits Fans With Bourbon-L...  15205798.0\n",
       "3  .@CambridgeBrewer Barleywine Fest is this Thur...  15205798.0\n",
       "4  @roblutter @beernerds Ah. Theres 2 BB threads....  15205798.0"
      ]
     },
     "execution_count": 71,
     "metadata": {},
     "output_type": "execute_result"
    }
   ],
   "source": [
    "df = pd.read_csv(\"Tweets_Brewery.csv\",index_col=0)\n",
    "df = df.dropna()\n",
    "df.head()"
   ]
  },
  {
   "cell_type": "markdown",
   "metadata": {},
   "source": [
    "You can use Regular Expression to define patterns of tokens in CountVectorizer. Let's just use # based tokens for analysis."
   ]
  },
  {
   "cell_type": "code",
   "execution_count": 72,
   "metadata": {},
   "outputs": [],
   "source": [
    "vect =  CountVectorizer(token_pattern='#\\w+')\n",
    "X = vect.fit_transform(df.text)"
   ]
  },
  {
   "cell_type": "markdown",
   "metadata": {},
   "source": [
    "Let's visualize the frequency."
   ]
  },
  {
   "cell_type": "code",
   "execution_count": 82,
   "metadata": {},
   "outputs": [
    {
     "data": {
      "image/png": "[encoded data removed]",
      "text/plain": [
       "<Figure size 576x576 with 1 Axes>"
      ]
     },
     "metadata": {
      "needs_background": "light"
     },
     "output_type": "display_data"
    }
   ],
   "source": [
    "features = vect.get_feature_names()\n",
    "fig, ax = plt.subplots(figsize=(8, 8))\n",
    "visualizer = FreqDistVisualizer(features=features, n=30)\n",
    "visualizer.fit(X)\n",
    "visualizer.poof()"
   ]
  },
  {
   "cell_type": "markdown",
   "metadata": {},
   "source": [
    "Let's apply topic mining model."
   ]
  },
  {
   "cell_type": "code",
   "execution_count": 74,
   "metadata": {},
   "outputs": [],
   "source": [
    "lda = LatentDirichletAllocation(n_components=5, learning_method=\"batch\",\n",
    "                                max_iter=25, random_state=0) \n",
    "document_topics = lda.fit_transform(X)"
   ]
  },
  {
   "cell_type": "code",
   "execution_count": 78,
   "metadata": {},
   "outputs": [
    {
     "data": {
      "text/plain": [
       "{0: ['#mnbeer', '#freshlocalbeer', '#stl', '#tbt', '#cobeer'],\n",
       " 1: ['#beer', '#craftbeer', '#homebrew', '#cheers', '#homebrewing'],\n",
       " 2: ['#wine', '#foodiechats', '#cabeer', '#weyerbacher', '#raiseyouranchor'],\n",
       " 3: ['#craftbeer', '#cbc2014', '#denver', '#acbw', '#ipaday'],\n",
       " 4: ['#boston', '#wine', '#bnarmy', '#harpoonroadtrip', '#spirits']}"
      ]
     },
     "execution_count": 78,
     "metadata": {},
     "output_type": "execute_result"
    }
   ],
   "source": [
    "n = 5\n",
    "feature_names = np.array(vect.get_feature_names())\n",
    "topics = dict()\n",
    "for idx, component in enumerate(lda.components_): \n",
    "    top_n_indices = component.argsort()[:-(n + 1): -1] \n",
    "    topic_tokens = [feature_names[i] for i in top_n_indices] \n",
    "    topics[idx] = topic_tokens\n",
    "\n",
    "topics"
   ]
  },
  {
   "cell_type": "markdown",
   "metadata": {},
   "source": [
    "Let's find prominent topics"
   ]
  },
  {
   "cell_type": "code",
   "execution_count": 79,
   "metadata": {},
   "outputs": [],
   "source": [
    "n_topics = 10\n",
    "lda = LatentDirichletAllocation(n_components=n_topics, learning_method=\"batch\",\n",
    "                                max_iter=25, random_state=0) \n",
    "\n",
    "document_topics = lda.fit_transform(X)\n",
    "sorting = np.argsort(lda.components_, axis=1)[:, ::-1]\n",
    "feature_names = np.array(vect.get_feature_names())\n",
    "topic_names = [\"{:>2} \".format(i) + \" \".join(words) \n",
    "               for i, words in enumerate(feature_names[sorting[:, :2]])] "
   ]
  },
  {
   "cell_type": "code",
   "execution_count": 80,
   "metadata": {},
   "outputs": [
    {
     "data": {
      "image/png": "[encoded data removed]",
      "text/plain": [
       "<Figure size 720x720 with 2 Axes>"
      ]
     },
     "metadata": {
      "needs_background": "light"
     },
     "output_type": "display_data"
    }
   ],
   "source": [
    "fig, ax = plt.subplots(1, 2, figsize=(10, 10))\n",
    "# two column bar chart:\n",
    "for col in [0, 1]: \n",
    "    start = col*int(n_topics/2)\n",
    "    end=(col+1)*int(n_topics/2)\n",
    "    ax[col].barh(np.arange(int(n_topics/2)), np.sum(document_topics, axis=0)[start:end]) \n",
    "    ax[col].set_yticks(np.arange(int(n_topics/2))) \n",
    "    ax[col].set_yticklabels(topic_names[start:end], ha=\"left\", va=\"top\") \n",
    "    ax[col].invert_yaxis()\n",
    "    ax[col].set_xlim(0, 7000)\n",
    "    yax = ax[col].get_yaxis()\n",
    "    yax.set_tick_params(pad=130)\n",
    "    plt.tight_layout()"
   ]
  },
  {
   "cell_type": "markdown",
   "metadata": {},
   "source": [
    "<b>Exercise:</b> Can you extract the links from Tweets using Regular Expression."
   ]
  },
  {
   "cell_type": "markdown",
   "metadata": {},
   "source": [
    "<b>Extra Credit Activity:</b> Is there any approach to find the best number of topic with LDA? If yes show that with one example."
   ]
  },
  {
   "cell_type": "code",
   "execution_count": 96,
   "metadata": {},
   "outputs": [
    {
     "data": {
      "text/plain": [
       "'Have you tried BA mobile yet? http://t.co/QcrUe2DdDH #craftbeer'"
      ]
     },
     "execution_count": 96,
     "metadata": {},
     "output_type": "execute_result"
    }
   ],
   "source": [
    "df.text[0]"
   ]
  },
  {
   "cell_type": "code",
   "execution_count": 112,
   "metadata": {},
   "outputs": [
    {
     "data": {
      "text/plain": [
       "['Got Chrome? Android? Get a 14-day free trial to BA mag via Google Play: https://t.co/tU11te7IFC #craftbeer',\n",
       " 'Using Google Chrome? Android? Try a 14 day free trial to BeerAdvocate magazine today. https://t.co/tU11te7IFC #craftbeer',\n",
       " 'Got Android? Google Chrome? Get a 14 day free trial to BeerAdvocate magazine today. https://t.co/Au3nLjEn7D #craftbeer',\n",
       " 'Android user? Got Google Chrome? Get a 14-day free trial to BeerAdvocate magazine today! https://t.co/lu9QcjAs3s #craftbeer',\n",
       " 'American #CraftBeer Week (#ACBW): May 12-18, 2014. How are you celebrating?\\nhttp://t.co/DLjFx3HwyJ\\n\\nhttps://t.co/BrEBJc4zfC',\n",
       " 'Got Android? Google Chrome? Get a 14-day free trial to BeerAdvocate magazine today! https://t.co/Au3nLjEn7D #craftbeer',\n",
       " 'Got Android? Chrome? Get a 14-day free trial to BeerAdvocate magazine via Google Play. https://t.co/Au3nLjEn7D',\n",
       " 'Awesome to see BeerAdvocate magazine still on Google Plays \"Top Magazines https://t.co/FKIo392XYD',\n",
       " 'Hey Android users! Get a 14-day free trial subscription to BeerAdvocate magazine now! https://t.co/Au3nLjEn7D #craftbeer #beer',\n",
       " 'Get a 14-day free trail to BeerAdvocate magazine via Google Play Newsstand https://t.co/Au3nLjEn7D #Android #Chrome',\n",
       " 'Let Germany brew your beer? Sorry, Bob, but we got this  Sam just penned his first column  for @Medium https://t.co/TxUK8gGkCF',\n",
       " '@NASCAR_Rulz @ToddTPrice24 @Sponsor_Drivers We did! https://t.co/wAvSLDt4qd',\n",
       " 'Flattered by fans beckoning us to the East. Returning love starting w/earlybirds in #Charlotte NC!\\n#StoneEast #beer\\nhttps://t.co/ZHvK3ciVV2',\n",
       " 'Blount Cty hit our radar w/a bang, twang &amp; 2 songs. Impressed w/the passion East #Tennessee. \\nhttps://t.co/cBbawJCMai #StoneEast #craftbeer',\n",
       " \"#MyrtleBeach hit big w/a @Facebook page w/3K likes. Flattered! (And a beach city's tempting!) \\n#StoneEast #craftbeer\\nhttps://t.co/57mFrROJgq\",\n",
       " 'Help Stone #EnjoyBy 04.20.14 IPA once again crush the #CraftBeer competition &amp; help donate $1,000 to charity!\\nVOTE | https://t.co/MpsgSDEvJv',\n",
       " 'Check out what @StoneGreg was up to on 04.20 seven years ago during the Craft Brewers Conference - https://t.co/LAYS1bd7Hb\\n#craftbeer',\n",
       " 'Get to know SPRCKETBIER and the hilarious duo behind the black rye Klsch arriving on store shelves starting TODAY! https://t.co/HVE6Ewtdp1',\n",
       " 'NEW #BEER: Kyle Hollingsworth/Keri Kelli/Stone Collective Distortion #IPA drops TODAY! | https://t.co/vYYLGCt5aR\\n@KyleOnKeys @SCI_Official',\n",
       " 'Our CEO @StoneGreg gives Tony Yates, a homebrewer making West Coast #beer styles in #Norway, a big #video shout-out! https://t.co/xEbBq6UfoO',\n",
       " \"Wanna have #beer w/ @StoneGreg &amp; @KeriKelli? Tonight's your chance to do that &amp; help raise funds for charity! INFO: https://t.co/yCO1EggG8p\",\n",
       " 'See @StoneGreg take the #ALSiceBUCKETchallenge in NYC &amp; challenge \"Greg Koch X 3\" to this test of will -&gt; https://t.co/zYtsIhebha\\n#craftbeer',\n",
       " 'Ever wondered what the top beers on @untappd were? Check them out here: https://t.co/WD3ju36AJv',\n",
       " 'Tip: Always make sure your email address is up to date on @untappd in case you forget your password: https://t.co/uSxM2X32jg #tip',\n",
       " '@chriscaselas this account (https://t.co/7yGYf5UG11) has more info, username: chriscaselas',\n",
       " '@Spawn_Nick Our announcement of the badge occurred on Friday of the past week: https://t.co/mNcjG42mMa',\n",
       " 'Tip: Protect your @untappd account incase you lose your password. Make sure your email address is up to date at https://t.co/uSxM2WLZhg',\n",
       " \"We're excited to share with you our brand new home page and updated Untappd logo! https://t.co/YC1cclO3Mf http://t.co/JvFTwdhFtB\",\n",
       " '@maslowbeer go here: https://t.co/yheNbrJAPt (and see if you have an update)',\n",
       " '@javiwankenobi click on this link and see if you can follow the prompts: https://t.co/HoTEqqv63Z',\n",
       " '@LondonBrewingCo you guys can claim your brewery and make the changes whenever you want: https://t.co/N650mCA3QW',\n",
       " \"Drinking #SnapshotWheat. It's pretty dang good. #sixsecondbeerreview #craftbeer https://t.co/OTQgt12pd0\",\n",
       " '#SnapshotWheat, the retrospective film: Watch it and love it. https://t.co/fvmdcPapgk',\n",
       " 'Fat Tire #PairsWell with Bike Jousting https://t.co/8ALcq4VWqf',\n",
       " 'Whoa, this looks like a really good time, full of beer and music and good times You should go. #Austin https://t.co/KFUuJtzVKI',\n",
       " 'The Chopaderos, some Fat Tire and a sunny afternoon https://t.co/f9Ha9aUIiN',\n",
       " '.@ericmsteen did something really cool with @PDXArtMuseum. #ArtandBeer https://t.co/6fAjrNro42',\n",
       " \"#Instagram's new hyperlapse video + the New Belgium slide make for fun times (and sore necks.)\\nhttps://t.co/4vQh9efg88\",\n",
       " 'Congrats! RT @FFTTCider: @ciderguide we just received our licence and are launching in May! https://t.co/GTtF8t3plA http://t.co/Pv0Isxkzzb',\n",
       " \"Did you know the brewer list for #DCBSpringfest is completed It's pretty strong! Check it out now and get tix: https://t.co/ft9otAH4XM\",\n",
       " \"@Jenbill35 @AllagashBrewing Strange, I don't know. Here's the real link: https://t.co/Hh4dhCFUHt\",\n",
       " 'Raise money for a good cause &amp; drink #craftbeer w/ @SamuelAdamsBeer release of Boston 26.2 Brew: https://t.co/RAxuj0kQcy',\n",
       " 'Always! RT @kyleRrobidoux: Up for @StoneBrewingCo 2009 RIS &amp; @FirestoneWalker 2012 Parabola this Sun. @UrbanGrape ? https://t.co/FeStcfrCGO',\n",
       " \"Fun! @Valley_Malt #craftbeer tasting at @cbc_belmont tonight ft'ing @NotchBrewing @JacksAbby @thrwbck: https://t.co/w8w8a6OdRk\",\n",
       " \"Tributary Brewing Co. (Todd Mott's, creator of Kate the Great, new project) needs $47 to hit their Kickstarter goal: https://t.co/8n9O54Dz4w\",\n",
       " 'Like #craftbeer? Like music? Live in the #Boston area? Then this Original Gravity Concert Series tonight is for you! https://t.co/FUMStow93c',\n",
       " 'Really cool patent print of #beer brewing process designed by Louis Pasteur on @TouchofModern: https://t.co/zpyhvlEH2Q',\n",
       " 'A friend of mine is raising $ for ALS but not with the typical #IceBucketChallenge I donated $250 check it out! https://t.co/7QTHwt7Wp3',\n",
       " 'Looking for some awesome plans tonight? @NotchBrewing has a killer beer dinner https://t.co/uwqm1LuF0R',\n",
       " \"Hey, local friends! Hope you'll join us on Monday, March 24 for the Pale Bock release party. Yes, it returns! https://t.co/fno3m80kc1\",\n",
       " 'Food+beer whiz @lucybeercook included us in her Dinner in the #BeerGarden #cookbook! FL folks, meet her @verobooks https://t.co/IsC9lFZKgr',\n",
       " '\"We only go around once, we may as well have a riot while we\\'re doing it.\" https://t.co/B4LRkD3Gnz',\n",
       " '.@_conspirator_ and @Dopapod kick off our Mardi Gras Weekend in #btv February 28th! Get your tix: https://t.co/NyxgX3MOQs @higherground',\n",
       " 'Treat yoself (or Mom)! And raise some money for @HOPEWorks73 at SPA Works this weekend in #btv! https://t.co/I8ACP9DcYR',\n",
       " 'Our friends over at @SlopesideSyrup have a new idea to get Untapped with their organic maple syrup. Check it out: https://t.co/jEkdqHHSU2',\n",
       " 'Photos from the 5th Annual #WalltoCanvas urban art competition last weekend at our brewery: https://t.co/W2p2noiGSG #btv #graffiti',\n",
       " '#PhillyBierfest is on! Prost! ^BC (@ The German Society of Pennsylvania w/ 6 others) https://t.co/tOAlIvlhxn',\n",
       " '@RoxRooftop: RT @Rockies: .@RoxRooftop Preview: The @Tavernhg bar is 52\\'80\" long. #TheRooftop https://t.co/APmDHPvijk #dalespaleale',\n",
       " 'Join @REEBcycles &amp; @outsidemagazine bike n brew festival Sat @walnutroom  Denver 4 https://t.co/t6N9pciLM8 @LaCumbreBrewing @outsidesantafe',\n",
       " \"Diggin' the #windowlessvan life of @zakaryearley https://t.co/e9yb6Ju7xq. @REEBcycles\",\n",
       " \"Hells yeah, thanks!@DrinksTube: @oskarblues Lots of love for you guys our latest Jamie Oliver's #DrinksTube video https://t.co/q9P4rVvzw6\",\n",
       " 'Wilderness Brewing still without progress after raising $41k on Kickstarter 3 yrs ago\\nhttps://t.co/diN7XaXuPD #MObeer http://t.co/3wT90damcN',\n",
       " 'Stone Indiegogo campaign passes $220k mark. ~$50k in anonymous $300 contributions in last hr\\n\\nhttps://t.co/OQW6CVM6Fk http://t.co/pn3XubFEHR',\n",
       " \"Most liked FB comment on #StoneBerlin news: 'You guys don't have enough money to do this on your own??' - S. Nallen\\n\\nhttps://t.co/VGjVxk42jg\",\n",
       " \".@StoneBrewingCo's Indiegogo page for its Berlin project &amp; cross-planetary collaborations \\n\\nhttps://t.co/zrFidShPGg http://t.co/TbZfGFlliE\",\n",
       " 'Leinenkugel\\'s premieres \"Can\\'t Wait For Summer\" commercial (video)\\n\\nhttp://t.co/j19i5EJ7hJ @leinielodge https://t.co/O4M1JbD29p',\n",
       " \"The @Budweiser petition to make Major League Baseball's Opening Day a National Holiday passed 100k signatures on Fri\\nhttps://t.co/j46GmrPurQ\",\n",
       " 'Timelapse video of the #SanMarcosFire posted by @StoneBrewingCo earlier this afternoon\\n\\nhttps://t.co/sOJKw3FJfG',\n",
       " 'Heluva photo album from @sierranevada of its Mills River brewery under construction\\n\\nhttps://t.co/MjJ1pbRRqc #NCbeer http://t.co/q5Er7n7NAT',\n",
       " 'Brew Dogs Season 1 full episodes now available online through Yahoo\\n\\nhttps://t.co/Mz7GkuBH3X',\n",
       " 'Bacon Beer Cheddar Cheese Soup! Yum... Find the recipe at http://t.co/Mc9rW5Q5AI under the Bend Pub Page... https://t.co/mah2KE1z7g',\n",
       " '@NW_jasmine2687 Take a look at our American Kriek from our Barrel Room Collection - https://t.co/7WRLfE0CXE',\n",
       " \"@micahege 10am to 5:30pm on Friday's. More details here: https://t.co/l8armIky91\",\n",
       " '@KpphelpsPaul Take a look at our Find a Sam page: https://t.co/yGmTQ49hU1',\n",
       " '@CShaw23 Have you checked our Find a Sam page? Def call ahead if traveling far, #PorchRocker does move quick. https://t.co/yGmTQ49hU1',\n",
       " \"In Colorado 'Everyone with a beard brews beer, and everyone has a beard.' @YahooFood https://t.co/IwjlQKBvnj http://t.co/BPojYhuya4\",\n",
       " 'The #icebucketchallenge has raised $15.6 million for @alsassociation! https://t.co/qOiUo0hdU0 http://t.co/IwTv8fEIhq',\n",
       " 'Our @StoneBrewingCo collab #beer was just unlocked on @Indiegogo! You may now pre-buy bottles! https://t.co/iGvLA12hcf',\n",
       " 'Nice review, @ErieBetterBeer! 5 Monks Bourbon Quintupel (19.39% ABV) review: https://t.co/xikJN1IU2d ',\n",
       " \"@pippinpennycook @stevemckennad @monkeyrum https://t.co/vzAd214pK7 It's Steve, Mel and me!\",\n",
       " 'I heart Pleepleus. Do you? https://t.co/npB5iZU99s http://t.co/2CTslorXme',\n",
       " 'Still time to order this shirt for V-Day!\\nhttps://t.co/4pPCKCry0H http://t.co/raV4pUR1gf',\n",
       " 'Ice Ice Zany https://t.co/cSZInshnfV',\n",
       " '\"Can I get some ice in my drink?\"\\n\"What?\"\\n\"Ice. Ice, baby.\"\\nThen this happened...\\nhttps://t.co/nM92jkxjfJ http://t.co/HYJ7zhP6Zn',\n",
       " 'Quite simply... @Coby Fleener of the Indianapolis Colts feeding me whipped cream... https://t.co/cG9Jpr07zo',\n",
       " 'Want to know how we got all that delicious grapefruit juice in UFO #bigsqueeze shandy!? Music by Macklemore... https://t.co/Gdd4Nb103h',\n",
       " 'Hey @jimmykimmel we told the brewers u were coming 2 brew a beer w/ them. Their reaction when they learned ... https://t.co/YWgR33SYbe',\n",
       " \"Dear 5 PM - I'm ready when u are. Take our @BuzzFeed quiz 2 figure out what u should drink! #TGIF #FridgeFull  https://t.co/hpVPNguQwj\",\n",
       " 'The story behind the @sfbrewersguild collaboration beer for #SFBeerWeek #Griz #lawnmowerbeer https://t.co/qeHYGCLIIv',\n",
       " 'Awesome prank. Now where to find a beer plumber? @CHAOSBrewClub: @Yuengling_Beer It could happen! Watch this! --&gt; https://t.co/sZyRDxWdJe',\n",
       " \"Jen can't be out done by Ty. #4beers @RCRracing: Cheers from @yuengling_beer &amp; Jen Yuengling @whiskyriver_clt https://t.co/YvsaL1gGfO\",\n",
       " '@apierce20 We sell glassware at the brewery store and on the e-store. https://t.co/VaFIPLHFuZ',\n",
       " 'Ironic that https://t.co/fjuAmXzmwG collects your full name, email, and home address to fight NSA data collection. #StopTheNSA',\n",
       " '9th anniversary of @GrumpysNE trivia tonight! Win great gift certificates from local #NEMpls restaurants! Get there! https://t.co/Xa5y23TyWS',\n",
       " 'Who the fuck is Alice? https://t.co/QpVOdh8elj',\n",
       " 'No one works out at @PlanetFitness https://t.co/ymFCYbfEWB',\n",
       " 'Apparently someone jumped off the 4th St SE bridge onto I-35W in #Mpls All traffic being diverted. https://t.co/n4BVISi0le',\n",
       " 'Wanna see the IRS Commissioner get his ass handed to him? #IRSscandal https://t.co/v9t0YovOFN',\n",
       " 'Big electrical storm coming in. Been going crazy for a good while. https://t.co/wBav4EhM1x',\n",
       " 'Not sure which is sadder. Busta Rhymes doing commercials for Toyota or that he has put on a ton of weight. https://t.co/esoRMcItHP',\n",
       " \"Didn't see that comin. https://t.co/r6N1FaZjft\",\n",
       " 'Stay in the loop on Boulevardia as we announce more details. Follow @BLVDia and like the Facebook page: https://t.co/kGjPzytNln',\n",
       " 'KC Craft Beer Week is 6/7-6/15. @KCCBW: Check out our Facebook page at https://t.co/wTJsgHhNAf for a current listing of events! #KCCBW2014',\n",
       " 'Cheers to American Craft Beer Week! (5/12-5/18)\\nhttps://t.co/Ay0lXgjB8i',\n",
       " \"Thank you to @GreenDirtFarm for a great weekend of beer &amp; cheese. We'll be back in the summer and hope you can join. https://t.co/CwnKgOOVII\",\n",
       " '@carter2422 @mcgurran71 Tomorrow. https://t.co/G5RJBfbwzG',\n",
       " 'Download for the beer list! @Blvdia: OK, Android phone users, we have a @blvdia app for that (!) Get it now here: https://t.co/oK7p4VuyZN',\n",
       " 'Please take a moment to support @LanceKnowsBeer and his amazing project. https://t.co/RsaArKA3zy',\n",
       " \"We're taking over taps with Radler, Tank 7 and more at Lake of the Ozarks, 7/3 at Jake Culpeeper's, https://t.co/RbgHPLOT4x\",\n",
       " '@kcyeti Hibiscus Gose will be in non-goofy 12 ounce bottles. https://t.co/AcV0CHY1OS',\n",
       " \"@tecmogodfather That beer didn't leave the brewery. Our guess is that you're drinking this beer: https://t.co/B2b2LgztSP\",\n",
       " \"It's an @arcadefire kinda afternoon at the brewery: https://t.co/m1WJHmXmqy\",\n",
       " 'Planning on coming to our Invitational Beer Fest? Tix go on sale next week, get info on our #FWIBF page: https://t.co/ejMFzl0cf1',\n",
       " 'Sneak peek into Quality Control Lab! https://t.co/eadXWHV97M',\n",
       " '#FWIBF tickets go on sale at 12am midnight! So tonight at 11:59pm, BE READY! https://t.co/tqthotHEWh',\n",
       " 'A photo recap of @sfbeerweek: https://t.co/ZQawSBEZsB',\n",
       " 'Pics from #FeralOne Release Party at #Barrelworks! https://t.co/p2WguLYPmZ',\n",
       " 'Hang with @FW_SourJim this Sunday at 1pm at @libertinebrew for a blending workshop! Details here: https://t.co/pIJodxqDmY',\n",
       " \"It's alive! Witness our beloved #Parabola fermenting, thanks to the work of our mad scientist @FW_Brewmaster https://t.co/eq5uKJuYPb\",\n",
       " 'The winner of the #BeerGeek video contest goes to... Leigh Mierke &amp; his \"Craft Beer Party\"! Check it out here: https://t.co/IxEVySuBdI',\n",
       " '2nd place of the #BeerGeer video contest goes to... Jason Gray &amp; his \"Cheers to the Beard\" video! https://t.co/osCPPkyLwK',\n",
       " \"Don't miss out on this epic day! @805Beer: We know where we'll be August 16th. Are you joining us? #805BeachFest https://t.co/TSp8hMIScp\",\n",
       " 'Photos from #XVIII Blending up! Many thanks to @HermanStoryWine, @TablasCreek, @halterranch, @BookerVineyard &amp; more https://t.co/HhNzIQ7wsL',\n",
       " 'Set your alarms, the Liberation is coming! #Agrestic release tickets, Monday at 8am: https://t.co/cDqYkG0f7L http://t.co/h9WrlVwuUK',\n",
       " '@brentschooley @bin Yes, it is tasty. Familiar with our \"Fuse Box\"? https://t.co/WK1XRT0sYH',\n",
       " 'Our pals @mightymytpro made this fun commercial for us. Cheers! https://t.co/Ui7B8uZlce',\n",
       " 'My very first @Tastemade episode! Check it out: https://t.co/yS5jWmV2Tr',\n",
       " 'Trying to convince @Francesca_Live to join Team @bisonbrew at #Boonville next month!! https://t.co/kRQ9VMtWa6 @avbc',\n",
       " 'Headed up to Folsom next week for a tap takeover at @WFMFolsomBeer. Join me 4/24 5-7pm details: https://t.co/YiipNEVFIj',\n",
       " 'Do you love really well-made artisan cider? Do you live in the Bay Area? Join me at the CIDER SUMMIT tomorrow! https://t.co/bE2COD8vnm',\n",
       " \"Tomorrow, I'm taking a day off from beer to enjoy delicious artisan ciders. Join me at the Berkeley Cider Summit: https://t.co/ZHyU6z2OWy\",\n",
       " 'Trying to convince @Francesca_LIVE to come to the @lagunitasbeer Beer Circus on her birthday! EPIC EVENT! https://t.co/c0UyD8hDhp',\n",
       " 'NEXT Monday join @bisonbrew &amp; @SavorOakland at @ForgePizza from 5-8pm for pizza &amp; beer! Details: https://t.co/kWa2uuLCOp #beerdinner',\n",
       " 'Meet the Brewer + pizza + beer for only $12? Heck yeah! Join @bisonbrew &amp; @SavorOakland at @ForgePizza on 5/12 https://t.co/LcpycOCYDT',\n",
       " 'YO! Like this page and I will be your best friend for life. https://t.co/Rn43QxMl9O',\n",
       " 'Join me and @bisonbrew for a Brewmaster Beer Dinner at @LungomareJLS tonight! 6:30pm. Details: https://t.co/q3v9xdqVKz',\n",
       " 'ATTENTION ARIZONA FRIENDS! Join me and @bisonbrew for a night of bacon and beer with @AZGirlsPintOut July 10th 6pm https://t.co/aFEVyfx693',\n",
       " 'ARRIVED IN ARIZONA! Join me TONIGHT for BACON &amp; BEER w/ @AZGirlsPintOut at HUNGRY MONK (Chandler) https://t.co/qMD4mqYmAw',\n",
       " 'Thanks for helping today at @digindiana! https://t.co/Si3x5bOvra',\n",
       " '@JayZawaski670 Like @NekoCase said the other day https://t.co/yjPSew6b6C',\n",
       " \"This is the first opportunity to try 2014 Madame Rose. Don't sleep! https://t.co/YqVzJ1KYec\",\n",
       " 'Going to the @NHLBlackhawks game tonight? Grab a 312 Pale on draft and in cans! https://t.co/XEzu9wTAZi',\n",
       " \"You may be asking yourself, what's a Rasselbock?!? #FultonandWood https://t.co/LqX6I8DwSF\",\n",
       " 'Tomorrow has officially been proclaimed \"312 Day\" in Chicago by Mayor @RahmEmanuel. Celebrate with us! #312Pale https://t.co/I9yMit5EHq',\n",
       " \"Happy #312Day everyone. Grab some popcorn and silence your phones. Here's the enchanting story of #312Pale. https://t.co/K76yKRl4Tr\",\n",
       " 'CHI: Come out and drink with us! Endless IPA pub crawl tonight in Bucktown. https://t.co/cQT3790GBc http://t.co/vU1mCujvtY',\n",
       " '#MigrationWeek heads to the Twin Cities next week. Check schedule here: https://t.co/rVYNpmzJcc',\n",
       " \"Wanna have #beer w/GK &amp; guitarist @KeriKelli? Tonight's your chance to do that &amp; help raise funds for charity! INFO: https://t.co/G3q0X38eCQ\",\n",
       " '@redpola Here is a direct link to our subscription page: https://t.co/ak409dLP51. It will include a digital edition soon!',\n",
       " 'We were honored to be a part of Lances Brewery Tour. Check out the trailer &amp; fundraising campaign: https://t.co/GLYKUoCuO6 #BeerAutismHope',\n",
       " \"Who's coming to @STLBG #HeritageFestival with me? Grab your tix now: https://t.co/y1aUr4OJft More details at: http://t.co/0J4mgsNYfm #STL\",\n",
       " 'Sometimes we walk doggies on our weekends. #hemopet #volunteering https://t.co/wKPwWmSWUm',\n",
       " \"Collaboration brewing requires patience. And phones. And Patrick's stare (w/@8wiredbrewing) https://t.co/SYsl72xgom\",\n",
       " \"There's a Stefan in our mash run! #cleaningday https://t.co/03Y0mmd3mw\",\n",
       " 'Brett Brux propagation. These tubes are dancing. #brettbrux #brettanomyces #yeast #craftbeer https://t.co/oAhtesanHZ',\n",
       " 'Bottling some excitable #greymonday !! https://t.co/2uLLrZHZX3',\n",
       " 'A little sample of something #bourbon barrel aged w/@bman1113vr #thebruery #exbeerimental https://t.co/U7GTmmDn6P',\n",
       " 'Tasting and tasting and tasting #sanspagaie barrel samples #sourbeer #babeer #cherries https://t.co/Cskdcn5TNR',\n",
       " '#blacktuesday boiling and boiling and boiling https://t.co/QCYjiHdFBF',\n",
       " 'Stefan graining out some #BlackTuesday ... What else would we do on a Tuesday? https://t.co/TLPlxUgauC',\n",
       " 'Bottling some #tequila barrel aged #Sucre today. #babeer #thebruery https://t.co/v0eBbtHwhp',\n",
       " \".@DraftMag has posted this year's Beer Bracket. Please vote for Myrcenary &amp; help us support our local watershed! https://t.co/Kj6seviFOW\",\n",
       " '\"@WholeFoodsATX: Got beer? Join #wfmdomain during American Craft Beer Week on 5/16 @ 6 for a beer dinner w/Odell! https://t.co/sPjSZSTnBd\"',\n",
       " 'Tickets are still available for the FirstLast Dinner in Old Town Square! See you there! https://t.co/x0OHOTQvR8 http://t.co/04fNGONY3e',\n",
       " 'Our own @raudie_brewer &amp; Jay Montez are teaching a @CraftBeerBrew course! Check it out! https://t.co/auC1HrVPRv http://t.co/xBxTGRHGnK',\n",
       " 'American Sour Beers from @BeerBooks is now available to members during the pre-sale! https://t.co/mSyhjqPv84 Save 40%!',\n",
       " 'After the flames, cultures replant and beer is born. Its Mad Science. #RESIN\\n\\nhttps://t.co/st72PzQeRU',\n",
       " '@mrdink more info here cc: @untappd  https://t.co/l98pp1lUKt',\n",
       " '@Rlwegner @beerinator @TheBeerRunner you gotta play this clip when you have your first RAD\\nhttps://t.co/OBbCiqvSH6',\n",
       " '#IPA #TBT #IBU #103  https://t.co/e9VwchnpFo',\n",
       " 'NEW BREW: Bine to beer in under 24 hours. Our newest \"Cycliquid\" takes you straight to the hop fields. \\nhttps://t.co/Gf4yoS6Hi3',\n",
       " \"CCB participated in the ALS Ice Bucket Challenge! To make a donation go to http://t.co/qUDJAWew1i\\nHere's our video: https://t.co/4XpgFFIr89\",\n",
       " \"We had a blast on @SierraNevada's #beercamptour. Check out some footage from our trek through the Grand Canyon.\\nhttps://t.co/02NBD63g5v\",\n",
       " 'Follow this link to watch the Senate rules committee as they listen to SB1714! \\nhttps://t.co/95em9TzWTJ',\n",
       " 'Help us celebrate our 5th Anniversary in style. https://t.co/iEe7VuQv39',\n",
       " 'Snowed in? Make use of the night by entering to win a VIP experience with @moeperiod at the @TabernacleATL https://t.co/Cilg18SCeP',\n",
       " 'Take a shot at winning a VIP experience with @moeperiod at @TabernacleATL https://t.co/Cilg18SCeP',\n",
       " 'Give this video a watch to learn how our collab brew with @givekitchen came to be and what it means to us https://t.co/DH27NHmgiR',\n",
       " 'Last chance to win tickets to see @moeperiod at @TabernacleATL by commenting on this post before 4 pm https://t.co/vF10106eKj',\n",
       " \"Say hello to Munique, the tulip you'll be takin' home after our 17th birthday party\\nhttps://t.co/uCwyAIRj2d http://t.co/819jotPKA3\",\n",
       " 'Have we mentioned that Like a Locomotive will be returning to the stage for our 17th Anniversary party? https://t.co/Xk3uvalw3H',\n",
       " \"In case you haven't heard: we're havin' a little bit of a party Sunday to celebrate our birthday, and you're invited https://t.co/Xk3uvalw3H\",\n",
       " 'Just threw some heady shots from the 17th Anniversary party up on facebook. We remember...most of them. https://t.co/xTflsmdv8C',\n",
       " \"We're givin away two 3-day passes to @420fest until 6 today. Head over to the facebook page for your shot at em https://t.co/b9SbAwKPVH\",\n",
       " \"Join us and support @nantahalabrew as they help their brewer's son fight childhood leukemia #littlebrewheroes https://t.co/etPLcuzO3d\",\n",
       " \"Check out this here photo album for some process shots of our collab brew with @BreckBrew, O' Tay https://t.co/ZEtatRaMW8\",\n",
       " 'Hawktoberfest goes down this Friday. Catch a @ATLHawks game, sip on some heady brews and groove to @YachtRockRevue https://t.co/l3kbsptFUv',\n",
       " 'The bottles on the bus go round and round. Fresh Road Trip comin off the line today https://t.co/1nz8psR6Uq',\n",
       " 'A couple of 3-day passes to @420fest are up for grabs on their facebook page. Head over there for a shot at em https://t.co/b9SbAwKPVH',\n",
       " 'Only 3 more chances to win your way into @420fest by putting bags in holes. Next up @CornholeATL at @NorthRiverTavrn https://t.co/EFqmrN5ZIS',\n",
       " 'Honored to be a part of CurtisFest this weekend, honoring the legacy of an incredible dude and true friend https://t.co/ljyUjOEiiu',\n",
       " \".@BlackstockFest is here! We're heading to SC after lunch to go jam out for a couple days and you should too https://t.co/peHjSdj4yB\",\n",
       " 'Got a few kegs floating around the brewery today https://t.co/tca5NeRN8h',\n",
       " 'Hey Memphis! Sip on our heady brews this week as we kick off the party in your neck of the woods https://t.co/WDooQAxaeI @sweetwatertenn',\n",
       " 'Stoked to head down to Jville to punish our livers in support of @SJRiverkeeper this weekend. Cmon out and join us https://t.co/OGTJFZMuPr',\n",
       " \"You're gonna want to take more than two of these beauts. https://t.co/JXCLlOLFbz\",\n",
       " 'The folks from @SproutsFM put together this heady little flick to introduce us to their shoppers. Lookin good! https://t.co/JMxQdax2SQ',\n",
       " \"Lookin' for our brews in Memphis? Here's where you can find em https://t.co/rrE7X1ymo1\",\n",
       " \"We're givin away a couple tickets to @umphreysmcgee in St Pete Sunday. Head to FB for your shot at em https://t.co/v2FhWq90iI\",\n",
       " 'Cheers to @NYGovCuomo,the @NYSenate, and NY Assembly for supporting NYS craft beer, wine, and spirits producers! https://t.co/egKdR1VMgU',\n",
       " 'This Sunday, June 1: Our 3rd Annual Outing to Yankee Stadium with @NewYorkBeerCo. Tix: https://t.co/umI8F2g39z',\n",
       " 'Check out the @NYSBrewersAssoc Rare Beers event. https://t.co/5BHW5mWlT9',\n",
       " 'June 1 is our 3rd Annual Summer Outing to Yankee Stadium w/ @NewYorkBeerCo. Tix: https://t.co/umI8F2g39z. http://t.co/Y6XwPiptZx',\n",
       " 'Could we ask for a more beautiful day for the @meatmrktnyc rooftop launch party! https://t.co/e4kYE6GkdN',\n",
       " 'New floor being poured at the brewery today! More photos: https://t.co/9zyUrR5vzx http://t.co/1IVFIjxBFF',\n",
       " 'Fresh to death. Bronx Pale Ale cans now available via Fresh Direct. https://t.co/ujtmQBXM2g',\n",
       " '5 Desserts + 5 Beers = 10 delicious reasons to visit our Tasting Room on March 3. https://t.co/5zppQcaPOd',\n",
       " 'HIRING: Field Sales Rep - N. Carolina (based in Charlotte); Brand Ambassador - Northern Virginia/DC https://t.co/lWeR6uJXIb',\n",
       " 'NOW HIRING: Public Relations and Outreach Assistant https://t.co/lWeR6uJXIb #clejobs',\n",
       " '4.23: Movie Night at the Brewery Presents Caddyshack! http://t.co/ThLsVK5rms https://t.co/Tm21mwHKa6',\n",
       " 'Now hiring: Field Quality Specialist. Learn more about this position &amp; apply here: https://t.co/lWeR6uJXIb',\n",
       " \"Check out this awesome video recap of @wondergrassvail .  What an awesome time!  Can't wait for WWG 2015!\\nhttps://t.co/ZXCDLDZyq9\",\n",
       " 'Cast your votes for the 2014 @DenverComicCon beer name!\\nhttps://t.co/5XmRxOQMzM http://t.co/2wou2MklBU',\n",
       " 'Join the @DenverComicCon #Brewswayne release party FB page w/ @TotalGhost @sundownsocial @GTillDawn @The1upColfax https://t.co/1GHwcnBrSZ',\n",
       " '@thegrooveyone interviews comic artis Joe Oliver at the Brewery for @DenverComicCon https://t.co/qBFigV74Be',\n",
       " '@DenverComicCon #BrewsWayne release party pics from our Facebook w/ @sundownsocial &amp; @TotalGhost at @The1upColfax https://t.co/gV16ZrCzMc',\n",
       " 'Game of Thrones watch party at Armoury in Denver! #got https://t.co/4XelfOjH4w',\n",
       " '2014 @DenverComicCon Friday Classic Arcade Photobooth pics are up! #BrewsWayne https://t.co/Vue6X0DynJ',\n",
       " '2014 @DenverComicCon Saturday Classic Arcade Photobooth pics are up.  More Saturday pics coming. #DCC2014 #DCC  https://t.co/SPnUfJSrrM',\n",
       " 'The new Rocky Mountain Sampler Pack featuring the exclusive Mountain Series rotator is in production today!... https://t.co/mmCTtFSoSi',\n",
       " \"Wondering who's playing at the Breck sponsored @TheUMS this year?  Here's a little refresher...  https://t.co/oRQyl8Gxbg\",\n",
       " 'Surly Mile High Club @SunCountryAir https://t.co/VGq1KTFhAI',\n",
       " \"Get Surly all over dtwn St. Paul for @CrashedIce tonight &amp; tomorrow Here's where &amp; more details: https://t.co/BaKYxTpmFQ\",\n",
       " 'Tonight: #SurlyBLAKKR tap release at @grumpysdt. BLAKKR on tap at 7:06pm. More details: https://t.co/pipdPB0XtZ',\n",
       " 'Want tix to @MNRG bout tomorrow? @BryanPiatt of @kare11 is doing bout countdown &amp; needs a derby name: https://t.co/0d4lpZMrFU',\n",
       " \"We'll be @elbaitshop in Des Moines, IA on Apr 3, 4-8pm pouring beers for the night. Check it out: https://t.co/mE9y8qKo7n\",\n",
       " 'Pouring more grade beams today. Things are really moving on-site. https://t.co/wLelRFAB3I',\n",
       " \"4pm tonight in Des Moines IA: We're tapping a bunch of beers @elbaitshop for a one-night only event:\\nhttps://t.co/jdL9WFO1lx\",\n",
       " 'A lot of people on site today. https://t.co/OcpMoX1wGj',\n",
       " '1st floor pour today! https://t.co/Ml6rEDSb2i',\n",
       " 'View from the fermentation roof. https://t.co/oTCqLcjJjS',\n",
       " 'Floors almost all poured https://t.co/ueOAxp9Rfe',\n",
       " 'Bitter Brewer draft release Friday at 22 @BWWings locations in MN! Cans &amp; taps everywhere next wk #GetSurly https://t.co/7QXUczxm97',\n",
       " 'Steel is going up! https://t.co/QhnEYrZ0Uf',\n",
       " '3 yrs ago today, the \\'Surly Bill\\' became law, thanks to your support &amp; saying\" Why the hell not?!\" https://t.co/CEoq9CN4J6',\n",
       " 'The roof over the Brewhouse &amp; beer hall is going up! https://t.co/CkeyG7mZHb',\n",
       " '2nd floor concrete pour, welding and exterior wall framing all happening today. https://t.co/5203y0Xzey',\n",
       " '2nd floor being poured today. https://t.co/LUHegBkex8',\n",
       " 'Stairs, block, framing and lights. Lots of different trades on site. https://t.co/qY5OvhUIpe',\n",
       " 'Beer garden and 2nd floor https://t.co/8qP0OhZu7d',\n",
       " \"Cask of Overrated dryhopped w Chinook @SurlyTap tonight. We're closed Friday but open today at 3. Beer list &amp; info: https://t.co/8nWRG05tvy\",\n",
       " \"We're Hiring! 2 finance gigs &amp; 3 hospitality openings. Check the openings on our website &amp; spread the word: https://t.co/Bjqfss85fj\",\n",
       " 'Brewhouse and fermentors at the harbor prior to shipping in Bremen, Germany. https://t.co/ys40W8HuL1',\n",
       " 'https://t.co/XoiMtB12kv',\n",
       " 'Reminder, @SurlyTap is closed today because AMERICA! Open tomorrow at noon. Tours @ 1, 3 &amp; 6: https://t.co/8nWRG05tvy',\n",
       " \"We're Hiring! 1 Warehouse Ninja, 2 finance gigs &amp; 3 hospitality openings. Get more info on our Careers page: https://t.co/Crbgit5b8F\",\n",
       " '#voteloon RT: @MNBeerActivists: Fundraiser for @JeniferLoon at @surlybrewing tonight. #mnbeer https://t.co/vMyMO874e5',\n",
       " 'Roof insulation installation starting today. https://t.co/h4HKr1eHLm',\n",
       " 'Too much work for one vine https://t.co/iaM2YXzL45',\n",
       " 'Chillers, roof top units and tile being installed. https://t.co/DaY0PlQtc3',\n",
       " 'Wort kettle getting rigged into the brewery. Only 8 more truckloads to go. https://t.co/kVMaxGcyN3',\n",
       " 'Whirlpool heading into the Brewhouse. https://t.co/mPQ0584YKX',\n",
       " 'Wort kettle standing. https://t.co/W75tpkYo4G',\n",
       " 'Mash tun coming in! https://t.co/egvIodjsFL',\n",
       " 'The lauter tun is in the building! Bit of a tight fit. https://t.co/JvMaRwbubw',\n",
       " '3 out of 6 tanks are now set. https://t.co/yAc3g13IuY',\n",
       " '4 of 6 fermenters are set. https://t.co/lii2Sm83TQ',\n",
       " 'So much happening on-site. Over 100 tradesmen on the job. https://t.co/FTlbhINFab',\n",
       " '1 of 3 mainly silos are up. https://t.co/Ak8lsrtrq1',\n",
       " \"We're looking to hire an IT Specialist! Check out the job info &amp; tell yr friends: https://t.co/x2LyPgwoQ2 http://t.co/xBODkvlco5\",\n",
       " 'Just a reminder that RateBeer Android app is free and delivers the most reliable ratings quickly and easily CLICKY\\n\\nhttps://t.co/Epa2OscJbn',\n",
       " 'The RateBeer API is open to any JIBO developer wanting to enable voice rating of beers. https://t.co/no4fMl7KmU',\n",
       " 'Where to find great beer in Seattle? CHECK IT: collab w @tableau \\nhttps://t.co/QvzO9OQ9CM',\n",
       " 'whoops this happened at ratebeer summer gathering https://t.co/vPjFKDyS1g',\n",
       " \"Ohio Brew Week (Athen, OH) is still seeking volunteers. Please help pitch in if you can. I'll be there! https://t.co/xy7rXyh5gl\",\n",
       " 'Yes our apps scan barcodes https://t.co/9rToVzjYJI',\n",
       " \"RT: Cool geek bottle openers (don't bend caps/saws thru wax) by a man &amp; son who happens to be blind autistic. https://t.co/rIEJlJDi8p\",\n",
       " 'I give you the #FreeBeer vending  machine https://t.co/QPzokcuUNL',\n",
       " \"Cutting through all the confusion, opposition and misunderstanding, we've produced this: What Is Craft Beer? - https://t.co/puyeLP7lfL\",\n",
       " 'Download the RateBeer iPhone app. It can save you $$$ &amp; ensure your next beer pick is a good one https://t.co/oIAXNbxVC0',\n",
       " 'The RateBeer Android app is totally free and available for install https://t.co/OsiSihcyXQ',\n",
       " '@Chad9976 RateBeer Best.loads of TV/radio coverage in many states, countries https://t.co/75NSLuauwm',\n",
       " 'Beer delivery by drone (with very pleasant music) \\nhttps://t.co/NpwxFjaDRt',\n",
       " 'Abita Beer Dinner tonight at @Ho7Naperville! Details here: https://t.co/JiG3SuhRSx #craftbeer',\n",
       " \"Wondering how we're progressing with our new expansion? Check it out! https://t.co/wsC8BbWHu5 #craftbeer #abitaexpansion\",\n",
       " 'Are you getting ripped when you buy the large beer at a sporting event? People in Boise certainly are!\\n\\nhttps://t.co/iSgG6l6Z1b',\n",
       " \"We're digging this kickstarter for @coolest_cooler. It's a party in a cooler. https://t.co/dfXKdV3e5h\",\n",
       " 'Join me an @SavorOakland 6-8pm tonight for a #MeatlessMonday pizza &amp; beer party at @ForgePizzeria! https://t.co/LHO0P5jcTa',\n",
       " 'TONIGHT 4-6pm! Join me &amp; @TheBeerWench for HAPPY HOUR at THE ATTIC in Phoenix! https://t.co/fvAUxRlJao',\n",
       " 'ARRIVED IN ARIZONA! Join me TONIGHT for BACON &amp; BEER w/ @AZGirlsPintOut at HUNGRY MONK (Chandler) https://t.co/fvAUxRlJao',\n",
       " 'TODAY: #MeatlessMonday Pizza &amp; Beer Party 6-8pm at @ForgePIzza with @SavorOakland and @OaklandVeg. Vegan options! https://t.co/7tCf5pEPAs',\n",
       " '#MeatlessMonday in the Beer Garden at @ForgePizza July 7th, 6-8pm. https://t.co/IYkuIE3fOJ',\n",
       " 'MEET THE BREWER (me) MONDAY JULY 7th at @ForgePizza Jack London Square. #MeatlessMonday https://t.co/IYkuIE3fOJ',\n",
       " 'Love pizza? Love organic beer? Join me for #MeatlessMonday July 7th at @ForgePizza. #meethebrewer https://t.co/4ouzjHXtbS',\n",
       " 'Join me &amp; @SavorOakland MONDAY JULY 7th at @ForgePizza JLS for #MeatlessMonday in the Beer Garden. #meetthebrewer https://t.co/4ouzjHXtbS',\n",
       " \"Brewmaster Beer Dinner tonight! Who's coming? https://t.co/6nZF9GVPYR @PartyPartyParty @DanicaSattui @SpunkyLibra73\",\n",
       " 'Join Bison @ SavorOakland NEXT MONDAY 5/12 5-8pm for a #MeatlessMonday beer dinner at @ForgePizza Details: https://t.co/FIVmie9hwN',\n",
       " 'Join us tonight at @OaklandHub for locally-inspired, sustainable mixer hosted by @OaklandGrown https://t.co/xYEzNhEKOE #EarthDay',\n",
       " 'Hey Sacramento friends! Wanna drink Saison de Wench with @TheBeerWench herself? Tap takeover 4/24 at @WFMFolsomBeer https://t.co/YRRtUr3KJJ',\n",
       " 'Lumia event (Checked in at Terra Gallery &amp; Event Venue) https://t.co/ZliPyoxYIS',\n",
       " 'OFFICIAL Saison de Wench Release Party is scheduled for Wednesday, February 12th. Details: https://t.co/7sG508kVnd #saisondewench',\n",
       " 'Join me &amp; @SavorOakland on July 7th for #MeatlessMonday in the Beer Garden. Pizza and Beerhow could you go wrong? https://t.co/IYkuIE3fOJ',\n",
       " 'Help raise scholarship $$ so girls can get outside this summer! Gear &amp; Cheer - April 17th. https://t.co/J9gVPyH6Yn Hope to see you there!',\n",
       " 'Plans tomorrow? Come down to the pub for our 35th Anniversary Black IPA Release Party! https://t.co/cO37sYDHz1 http://t.co/kmeYNooO9U',\n",
       " 'The tale of the tape.  Read about the burgers on @PublicanQuality Facebook page. Us vs @RevBrewChicago  https://t.co/OICZnYTXA5',\n",
       " 'My day in brewing: Illinois Brewers Guild at the TapRoom. All real peeps. You can tell. And then band rehearsal..!! https://t.co/3W6NPySnfh',\n",
       " \"Cheers, all! 'Remember our fallen heroes, y'all be sure an' drive slow'\\nhttps://t.co/HLbLrxY5iC\",\n",
       " \"My little Chicago super-group... Vid= 4 years in a brewer's life...        https://t.co/IYAdIjRXwN\",\n",
       " \"...we're warming up for The Velvet Jimi's...Here's a sample of us: https://t.co/Vh7EXTPtIL\",\n",
       " \"Wrong link for the tune...here's the correct one. Blerg.                         https://t.co/H8FoCakBkN\",\n",
       " \"Here's a free song. Warning: It may be worthless!  https://t.co/dbBsysaobu\",\n",
       " 'Come see us off in Studio DD, have some beers, and buy some crap.  https://t.co/sGxSlcrjS1 #BNArmy',\n",
       " 'The #CBC14 World Beer Cup Awards are now live! https://t.co/aWuahGGvsR #BNArmy @BrewersAssoc',\n",
       " 'Into sci-fi, mythology, and all things fantasy? Check out this cool new #Kickstarter project https://t.co/inRq83dLl1 @SatyrStein #BNArmy',\n",
       " 'Celebrate your next critical hit with a recipe from Don over at @SatyrStein \\nhttps://t.co/inRq83dLl1 #BNArmy',\n",
       " 'Check out the Brewometer @Baronbrew and help them reach their goal! https://t.co/THVKLhtHn1 #BNArmy',\n",
       " '@neckbeardbeer @factionbrewing Ask &amp; you shall receive: https://t.co/PxISj2DGiN',\n",
       " 'The BN wants to invade Australia! Well, technically we were invited. Help us get there &amp; give this vid a peek-see: https://t.co/s6yhpU01Ub',\n",
       " \"BN Merch Alert: Tees $10 &amp; $15 both in men's &amp; women's sizes. Look here so you can clothe yourself in awesomeness--&gt; https://t.co/57UxnPJZk1\",\n",
       " \"We're not afraid to wrestle crocodiles. At all. Wanna see that happen? Help us get to Australia https://t.co/ftgIFr0qbd\",\n",
       " \"Lookin' gooood! But, look better. Promos at the BN store can help w/ that. $10 &amp; $15 tees for August: https://t.co/VifMZ9pmrp\",\n",
       " \"We just got giddy lookin' at FastFerment, a brand new plastic conical fermenter, 7 gallon for $90 w/ shipping:https://t.co/HZmpZH7zYY\",\n",
       " \"We're nearing the end of August, meaning last chance for discounted merch on our website. https://t.co/VifMZ9Gptp\",\n",
       " \"Sooo we're nearing the end of August, also meaning we are nearing the end of our tee promo. Get a deal while ya can: https://t.co/TbgG5NGJNH\",\n",
       " \"@PSU_Md Very soon! We'll letcha know when its on tap! Keep an eye on our Tap Room Facebook page, too. https://t.co/TKkMVEuutV\",\n",
       " 'The Friends of Fort McHenry Inaugural Crab Feast is THIS Saturday, July 12th! Tickets: https://t.co/rsfEOLibRf http://t.co/05qm06qF9f',\n",
       " \"Anyone been able to replicate this supposed trick? We're thinking it is a fake. \\nhttps://t.co/urFb51PiPl\",\n",
       " 'Were stoked to sponsor this years AHA National Homebrewers Conference. Join us! Registration:  https://t.co/OXwm3oxkI4',\n",
       " 'Beer news in #Chicago, @lagunitasbeer style: \\nhttps://t.co/TEY8Vtx9Q0',\n",
       " \"In case you missed today's chat: RT @cicerone: @drinkscraftbeer  It's been Storify'd: https://t.co/XgmorADPA1\",\n",
       " 'Now some real news: HopUnion Hop Aroma wheel gives varieties displaying various common traits. Cool!  https://t.co/davfbgfyAZ',\n",
       " 'We Are Illinois Craft Beer - Celebrating Neighborhoods - https://t.co/Nk5uhL7obF',\n",
       " 'The results of -28º weather on a pint of beer. - https://t.co/InjmONNaJP',\n",
       " \"We're bringing the beer to @nwtechall's chat on Defining the Hybrid Datacenter. Join &amp; ask questions w/#hybridDC! https://t.co/KJKw7tgWSM\",\n",
       " \"[EUGENE] Come taste the first keg of this season's Spring Reign AND help out a great cause AT THE SAME TIME. https://t.co/z1njyqtQp0\",\n",
       " 'Our current most wish-listed beer on @untappd is Dawn of the Red. Sounds right. That tops our daily wish list too. https://t.co/9g7pY5lMDw',\n",
       " \"We want to toast all of the delicious #craftbeer you're drinking on @untappd! Friend us so the cheersing can begin! https://t.co/9g7pY5lMDw\",\n",
       " \"EXACTLY. We're here for you. #beerlaunch RT @BeersAroundMe I mean, who wouldn't want to try Space Beer... https://t.co/iPFUNKKy89 \",\n",
       " 'RT @EllumBarBoston: Its #SessionBeerDay!\\nCelebrate it w/ @NotchBrewing on our patio at 5.\\n\\nhttps://t.co/Is1bsVgCR0 http://t.co/AjGiTcON3N',\n",
       " 'Couple of Pils brews. (@ Two Roads Brewing Company - @2roadsbrewing in Stratford, CT) https://t.co/7lbczPNK6A',\n",
       " 'Affirmative. Join us! RT @DrinkCraftBeer: Looking for awesome plans tonight? @NotchBrewing has a killer beer dinner https://t.co/8EziUMgtbe',\n",
       " 'Yay! @hopcloth made a \"Drink Beer from Here\" shirt for Maine! Woop! https://t.co/r5ADgnyFFB',\n",
       " 'They have a mens version too https://t.co/ysNBLLFXNL (as well as 18 other states)! http://t.co/AeVWUS88xj',\n",
       " \"We're getting our yeast on talking to @BryanGreenhagen of Mystic on the #SBLPodcast tonight. https://t.co/vpNKiNNYYo\",\n",
       " '@scoutingthetaps Yup, here it is. https://t.co/4LuYJbtCYi',\n",
       " \"@OliverJGray @TapDancerBlog @SommBeer Unless you're literally Chick Beer. https://t.co/C7jMNAhpoS\",\n",
       " 'I just published The New Home of IPAs https://t.co/dEt4iV4qr2',\n",
       " 'Thanks Lew! RT @lewbryson: Nicely done, thoughtfully done numbers piece on IPA regionality and localism.  https://t.co/UoOBliFKVP',\n",
       " \"Where are the best IPAs? Here's what the data says. https://t.co/UoOBliFKVP\",\n",
       " 'Yep, there are a few craft breweries in Mexico. This Changes Everything: Mexican Craft Beer https://t.co/2DzIkakd4h via @YahooFood',\n",
       " 'Preparing #Weyerbacher #Blasphemy barrels! #craftbeer https://t.co/uOJ9X7IEbS',\n",
       " '#Weyerbacher #Blasphemy barrel activity! #craftbeer https://t.co/T6ZQfHmkRM',\n",
       " 'VERY HOT rinse-down in progress! #Weyerbacher #craftbeer https://t.co/bkwEEjYr7X',\n",
       " '#Weyerbacher #HopMinion at work recirculating ElDorado, Centennial &amp; Bravo  #hops in #ViridisLupulus #craft... https://t.co/5QI8YbVhi0',\n",
       " '.@bws53  There you go! https://t.co/VP5Yx5Oxfg',\n",
       " '.@GregAdomaitis  DO IT https://t.co/VP5Yx5Oxfg',\n",
       " \".@EricMeditz .@Kept2Task  we understand - it will be there when you're ready. https://t.co/VP5Yx5Oxfg\",\n",
       " '.@DarrylIsherwood .@jcanalslawrence .@RiverHorseBrew .@NJCraftBeer  we totally get it. https://t.co/VP5Yx5Oxfg',\n",
       " 'RT @ChrisSedenka: Come see @ShipyardBrewing and us broadcast the show live at the @PortlandSeaDogs opener!  https://t.co/ZQvyTRrfxO',\n",
       " \"Just registered for Shipyard Old Port Half Marathon! Who's going to join us? https://t.co/6LgzKlyJLr\",\n",
       " 'Introducing the #ArtOfTroegs 2014 bottlecap art contest! Drink #beer. Get inspired! https://t.co/Wqvpsnl3pO #craftbeer #PAbeer #troegsbeer',\n",
       " 'First run of #sunshinepils cans! Liquid summer is coming the first week of May. #troegsbeer #craftbeer #pabeer https://t.co/mCdBaVIfF9',\n",
       " '#Troegs Night tonight @JohnnyJoesBar1! Tastings w/ @troegs_phil at 9pm &amp; live music by #HeavyPush at 10pm. #PAbeer https://t.co/IGN5aNzyaQ ',\n",
       " 'Join us tomorrow (6/11) @AmeliasBistroJC for #Troegs #Beer Dinner w/ #Scratch 139, #LaGrave &amp; more! 7pm. https://t.co/YeVBZmRAGb #craftbeer',\n",
       " \"Lancaster PA's #QuipsPub turns 30 on Sun. 6/15. Celebrate backyard BBQ style w/ #scratchbeer &amp; #SunshinePils #cans! https://t.co/8MbIMDS01u\",\n",
       " \"Don't miss #Troegs Night at Luca Bar NYC on Wed. 7/9 from 7 to 9pm. Visit their FB page for more info! https://t.co/8ogmduW5h5 #craftbeer\",\n",
       " 'Come hang w/ @TroegsMDVADC on 7/10 @RHSportsGrille. 2 #scratchbeer taps &amp; more! FREE pint glass w/ 1st purchase. https://t.co/EeKUdljiYd',\n",
       " \"You can still get tickets to tonight's Heart of the Brew benefitting Riley Heart Research Center.    https://t.co/Limir9Lzev\",\n",
       " \"Help SKB &amp; @gencon name this year's Official Beer of Gen Con! The naming contest is underway. #freshlocalbeer https://t.co/dDO5v1gh64\",\n",
       " 'Want to get involved with your Indy community? @IndyHub hosts Get IndyVolved on 6/18! Get registered today: https://t.co/jtvtgLfQ7d',\n",
       " 'Coming up this Thursday... https://t.co/w97sISZtxU',\n",
       " \"Listen to our latest podcast with Mark Schultz from @Slaters5050 and @TapHunterAndy! You don't want to miss this! https://t.co/p2BBDDS4yc\",\n",
       " 'Live feeds from #Kiev #Ukraine https://t.co/KnGasIxNAg',\n",
       " '\"HATERS GONNA HATE. So, you know what? Eat them for breakfast  @alexisohanian https://t.co/QHQzV04wx2',\n",
       " '#NowListening to Cancerous Growth Late for the Grave. @JasonAlstrom and I grew up on this shit. #punk #metal #80s https://t.co/c59JkDE1Kl',\n",
       " 'Best #jerky commerical ever. https://t.co/ZBhE26NqCg @JackLinks',\n",
       " 'Cack-a-lacky at the Grand Canyon! How awesome. https://t.co/rG5DzAS90g',\n",
       " '@fromira nope! Optional/obligatory Facebook event page: https://t.co/z4tSCxjFLw Thanks for asking!',\n",
       " \"Congrats to @cazwell for winning the #gansett Valentine's Day Contest! https://t.co/5vBzmER9QD\",\n",
       " 'Vote now to send your favorite can to the championship in our Retro Can Madness Tournament! https://t.co/zkPPSFugmY http://t.co/5Hi3qcWsQe',\n",
       " \"Last chance! Vote in the 'Gansett Retro Can madness finals! Remember we will re-release the winning can this summer!\\nhttps://t.co/TWTWKo1S9f\",\n",
       " '#HiNeighbor - The 1980 Can Wins Retro Can Madness!  Look for the re-release next year. https://t.co/zkPPSFugmY http://t.co/kC1jSF7V42',\n",
       " \"DC: We'll be at RFK with @RIStateSociety and @DCSports for the @dcunited match! 'Gansett Pre-Party and tix here! https://t.co/jfpnubJkip\",\n",
       " 'Well Tall Boy finally did it: https://t.co/kQYHb2cBcG Your turn @lordhobo, @MarkHellendrung, and @gansettcrooks! #IceBucketChallenge',\n",
       " \"Well @GinaForRI @AngelForRI @ClayPell you're right! Let's get together for a round of 'Gansetts! #FirstRoundsOnUs https://t.co/p23bmb90fL\",\n",
       " 'Our Oktoberfest groupon ends in 1 day! Get on it. https://t.co/txbsTrmpSH',\n",
       " 'Looking for our Gose near you? Check out our Beer Finder: https://t.co/9WyncVNsYG #craftbeer #Gose',\n",
       " 'Mark and Fernando are turning our used Wild Turkey barrels into planters. #recycle #reuse #repurpose https://t.co/H4m1N0uu3B',\n",
       " \"Bahl Hornin' Events for #ACBW: https://t.co/spKmFLoaPy \\n@ToddAVBC (SC) @SteinberKimmie (AZ) @taraavbc (Napa) @JorahWexler (L.A.)\",\n",
       " \"Pike to Boont for the bahlest steinber hornin' tidrick! #boonvillebeerfest https://t.co/4KUcWvIlrt\",\n",
       " 'The Humboldt Firkin Tappers kicking off the #boonvillebeerfest https://t.co/8mEGA8Uc9n',\n",
       " '@bythebbl @jim_moody Yibe, deek on more harpins here: https://t.co/yqyEAJsyKa',\n",
       " 'A good day to be a goat. https://t.co/yvrMD66zQJ',\n",
       " 'Boonville cows love our spent grain! #EarthDay https://t.co/hF51hxyCPC',\n",
       " 'Our estate hops are getting off to a great start! #craftbeer #hops https://t.co/MX3uqnZvZa',\n",
       " \"Fresh Hop Ottin' makes Mondee bahler. #craftbeer #bahlhornin https://t.co/JarxBtPKpg\",\n",
       " '@stkelly123 Summer Solstice has been released, have you tried our Beer Finder? https://t.co/9WyncVNsYG',\n",
       " \"@BeerMeetsWorld Plenty of horn sale regions carry our Spring Hornin'. Check out our Beer Finder https://t.co/9WyncVNsYG\",\n",
       " '@KimsBayBrews Yibe, though we need to upload it to the site https://t.co/wM0lSjS8IW',\n",
       " \"Being 'green' isn't always easy, but thanks to @PakTech, enjoying craft cans isn't that hard.\\nhttps://t.co/Txjlh2jInJ\",\n",
       " \"Pre @sfbeerweek hornin' with a Dark Spice beer cocktail at @2sistersbar. You need this. https://t.co/APGlfMnlGv\",\n",
       " \"Deekin' for Boont region steinbers near you?  Use our Beer Finder: https://t.co/9WyncW4w0G http://t.co/3uXilwblR8\",\n",
       " \"Send us a tweet in #Boontling using our new dictionary and we'll retweet the best for prizes! https://t.co/wM0lSk9bKW\",\n",
       " 'Ready for a good time? Open registration for #NHC2014 has begun! https://t.co/PzPk3MY6xV http://t.co/RbGqhatDrk',\n",
       " 'AHA Members! Planning to buy #SAVOR tickets tomorrow in the pre-sale? Make sure your Ticketmaster log-in is all set. https://t.co/JoXAvFj0TH',\n",
       " 'Just discovered the @active app lets you search for nearby races. Pretty cool. https://t.co/WHL288KU9v http://t.co/S2Fxg550gD',\n",
       " \"@Theazor99 nah. Most of my followers aren't in Wisconsin. Also this https://t.co/61hy75VeXH\",\n",
       " 'This is pretty cool. Check out @BillsandBrews, new web series featuring chats with lawmakers over local craft beers: https://t.co/Y3Y8N8HQzp',\n",
       " 'Congrats @BillsandBrews on a successfully funded kickstarter campaign! https://t.co/Y3Y8N8HQzp',\n",
       " 'Road Trip! by @gueldner https://t.co/tM5i4pouAh Thinking of submitting my bike trip story... http://t.co/sV2SsrF4Av',\n",
       " 'What a bike trip disaster taught me about kindness https://t.co/twcnWsb1e6',\n",
       " 'Still my favorite #KentuckyDerby tweet https://t.co/Sh7IrOl2oS @SteveRushin',\n",
       " 'The @SandyFeetEvents beer run https://t.co/GgrybnmZTt http://t.co/8hBqfDjrWT',\n",
       " 'Could be a fun job. @ToughMudder is looking for a copywriter: https://t.co/4gmpDE0Qd0',\n",
       " 'Another fun job - marketing manager at @runnersworld https://t.co/fgNYTfsRwf',\n",
       " 'The Crafty Beer Crawl 5K will feature  @SMACKRepublic #craftbeer: https://t.co/BSRydMSAAS http://t.co/EIIGcUWmem',\n",
       " 'Check it out. @newbelgium is hiring https://t.co/vEsUJ8Km7N',\n",
       " 'Ride Bikes, Drink Beer, Be Awesome with @WindsorEats - https://t.co/B045MuPFiL https://t.co/cyunmLC6xK http://t.co/llxahfmmBV',\n",
       " 'How I increased my productivity with beer and running  https://t.co/PyhynpCYDh',\n",
       " \"@jasonparry we should incorporate this into tomorrow's run https://t.co/qnofUMOtVt @EatsTreatsTruck @merkusa @travelchannel\",\n",
       " 'How @jeffrey lost 50 pounds in 8 months  https://t.co/4Op9GuCuPA',\n",
       " 'Lessons from losing 33 pounds, by @ksrikrishna https://t.co/38LNRLQxMO',\n",
       " '@BrewDrinkRun you should check out the @CityRunningTour @BrooklynBrewery tour! https://t.co/Ge5hhxk8E8',\n",
       " \"Why you should follow--&gt; https://t.co/RWPODRh7O4 RT @VanessaJunkin: I'm one follower away from 1,000! Who wants to be No. 1,000?\",\n",
       " \"Cheers, #Runchat. I'm The Beer Runner from Milwaukee, Wisconsin. https://t.co/cMqb1H5hcl\",\n",
       " '@RunningPhilly @RunningBecause Thought @thephilly10k had a cool beer promo with @PhillyBrewing https://t.co/uBhxe6t5jS @PhillyRun #Runchat',\n",
       " 'Join me next Sunday for a free @CityRunningTour and @HoleyMoleyCandD doughnuts! https://t.co/Ob2Y84ck1V http://t.co/1NQHsPAifJ',\n",
       " 'Google Plus turned my @dogfishbeer trip into a story https://t.co/jWU33WP7LJ http://t.co/xKdFeJxvCH',\n",
       " 'The google plus story feature is pretty cool https://t.co/duuhWYLHTP',\n",
       " \"What are the best songs about beer? Could it be @ScuzzTwittly 's newest song? https://t.co/fOXGaXaJq6\",\n",
       " 'This Sunday Funday at the brewery, free 5 to 8 pm: the gorgeous sounds of Nino Dem. https://t.co/ovPxIBdm9W',\n",
       " '#GreenDrinksHonolulu Tue. July 1, get your comp drink + pupus @HNLBeerWorks @greenmaghawaii https://t.co/ZVKQd3jIxR http://t.co/qkcTExry7u',\n",
       " '@MrJamesMahon Aloha James. have you tried The Bottle Stop? https://t.co/nhKYiYA9u5',\n",
       " \"#Portland If you wanna sample KBC's new Castaway IPA, join us @PopinaSwimwear  #PDX launch tomorrow! Thurs 6 to 9 pm https://t.co/NH0ovUWT5Y\",\n",
       " 'RT @DrinksTube @jamieoliver #goUSA Stunningly awesome review of Big Wave Golden Ale here! #WorldCupBeers https://t.co/8DfVwwcvLEEnjoy!',\n",
       " 'Bottling @ThreeTaverns in 15 Seconds https://t.co/9ZdgWQudjZ']"
      ]
     },
     "execution_count": 112,
     "metadata": {},
     "output_type": "execute_result"
    }
   ],
   "source": [
    "[word for word in df.text if re.findall('http\\w+',word)]"
   ]
  },
  {
   "cell_type": "code",
   "execution_count": null,
   "metadata": {},
   "outputs": [],
   "source": []
  },
  {
   "cell_type": "code",
   "execution_count": null,
   "metadata": {},
   "outputs": [],
   "source": []
  }
 ],
 "metadata": {
  "kernelspec": {
   "display_name": "Python 3",
   "language": "python",
   "name": "python3"
  },
  "language_info": {
   "codemirror_mode": {
    "name": "ipython",
    "version": 3
   },
   "file_extension": ".py",
   "mimetype": "text/x-python",
   "name": "python",
   "nbconvert_exporter": "python",
   "pygments_lexer": "ipython3",
   "version": "3.7.1"
  }
 },
 "nbformat": 4,
 "nbformat_minor": 2
}
